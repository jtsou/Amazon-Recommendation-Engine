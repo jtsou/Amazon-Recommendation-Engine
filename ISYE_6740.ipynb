{
  "cells": [
    {
      "cell_type": "markdown",
      "metadata": {
        "id": "view-in-github",
        "colab_type": "text"
      },
      "source": [
        "<a href=\"https://colab.research.google.com/github/jtsou/Amazon-Recommendation-Engine/blob/main/ISYE_6740.ipynb\" target=\"_parent\"><img src=\"https://colab.research.google.com/assets/colab-badge.svg\" alt=\"Open In Colab\"/></a>"
      ]
    },
    {
      "cell_type": "markdown",
      "metadata": {
        "id": "IG_v-_u5qRUn"
      },
      "source": [
        "# Final Project - Build recommendation engine using Amazon electronic products dataset\n",
        "\n"
      ]
    },
    {
      "cell_type": "code",
      "execution_count": null,
      "metadata": {
        "id": "j7539rMENc60"
      },
      "outputs": [],
      "source": [
        "#import os\n",
        "#import json\n",
        "#import gzip\n",
        "import pandas as pd\n",
        "#from urllib.request import urlopen\n",
        "#import seaborn\n",
        "from matplotlib import pyplot as plt\n",
        "import random\n",
        "import numpy as np\n",
        "#from tqdm import tqdm_notebook as tqdm\n",
        "#from collections import defaultdict\n",
        "# import wget"
      ]
    },
    {
      "cell_type": "markdown",
      "metadata": {
        "id": "vIsfZkR_mM8_"
      },
      "source": [
        "## 1. Import data and build user/items dataframe - *Jennifer Tsou*"
      ]
    },
    {
      "cell_type": "markdown",
      "source": [
        "1.a Original COMPLETE Dataset (commented out as we do not use this for the purpose of the report)"
      ],
      "metadata": {
        "id": "O7x4QRNartjc"
      }
    },
    {
      "cell_type": "code",
      "execution_count": null,
      "metadata": {
        "id": "VW1rdCx5N2oM"
      },
      "outputs": [],
      "source": [
        "# !wget http://deepyeti.ucsd.edu/jianmo/amazon/categoryFilesSmall/Electronics.csv"
      ]
    },
    {
      "cell_type": "code",
      "execution_count": null,
      "metadata": {
        "id": "M0jTq7bmOnU3"
      },
      "outputs": [],
      "source": [
        "# electronics_rating_full = pd.read_csv('Electronics.csv', header= None)"
      ]
    },
    {
      "cell_type": "code",
      "execution_count": null,
      "metadata": {
        "id": "j4MjG08nRDkA"
      },
      "outputs": [],
      "source": [
        "# electronics_rating_full.columns = ['item','user','rating','timestamp']\n",
        "# electronics_rating_full.head()"
      ]
    },
    {
      "cell_type": "markdown",
      "source": [
        "1.b Filtered Dataset (we use this for our project)"
      ],
      "metadata": {
        "id": "pZ9yNeLfr78y"
      }
    },
    {
      "cell_type": "markdown",
      "source": [
        "data loading from github"
      ],
      "metadata": {
        "id": "39NW9gxRsBkK"
      }
    },
    {
      "cell_type": "code",
      "execution_count": null,
      "metadata": {
        "colab": {
          "base_uri": "https://localhost:8080/",
          "height": 206
        },
        "id": "8rI75SkcSBwa",
        "outputId": "c8ca0747-e46f-4912-b9f6-01faa88c32b1"
      },
      "outputs": [
        {
          "output_type": "execute_result",
          "data": {
            "text/plain": [
              "         item            user  rating   timestamp\n",
              "0  B00001P4ZH  A2VFN33XFSDW9C     4.0  1502409600\n",
              "1  B00001P4ZH  A19MJFMEE3035J     2.0  1489795200\n",
              "2  B00001P4ZH  A1R42G8S6JIOEI     5.0  1485216000\n",
              "3  B00001P4ZH   ABMF4UC4Z00NT     2.0  1473638400\n",
              "4  B00001P4ZH  A2WJOOZA5T2KQ5     1.0  1462579200"
            ],
            "text/html": [
              "\n",
              "  <div id=\"df-43ac0299-db06-4ea8-878e-95255eeeb1b6\">\n",
              "    <div class=\"colab-df-container\">\n",
              "      <div>\n",
              "<style scoped>\n",
              "    .dataframe tbody tr th:only-of-type {\n",
              "        vertical-align: middle;\n",
              "    }\n",
              "\n",
              "    .dataframe tbody tr th {\n",
              "        vertical-align: top;\n",
              "    }\n",
              "\n",
              "    .dataframe thead th {\n",
              "        text-align: right;\n",
              "    }\n",
              "</style>\n",
              "<table border=\"1\" class=\"dataframe\">\n",
              "  <thead>\n",
              "    <tr style=\"text-align: right;\">\n",
              "      <th></th>\n",
              "      <th>item</th>\n",
              "      <th>user</th>\n",
              "      <th>rating</th>\n",
              "      <th>timestamp</th>\n",
              "    </tr>\n",
              "  </thead>\n",
              "  <tbody>\n",
              "    <tr>\n",
              "      <th>0</th>\n",
              "      <td>B00001P4ZH</td>\n",
              "      <td>A2VFN33XFSDW9C</td>\n",
              "      <td>4.0</td>\n",
              "      <td>1502409600</td>\n",
              "    </tr>\n",
              "    <tr>\n",
              "      <th>1</th>\n",
              "      <td>B00001P4ZH</td>\n",
              "      <td>A19MJFMEE3035J</td>\n",
              "      <td>2.0</td>\n",
              "      <td>1489795200</td>\n",
              "    </tr>\n",
              "    <tr>\n",
              "      <th>2</th>\n",
              "      <td>B00001P4ZH</td>\n",
              "      <td>A1R42G8S6JIOEI</td>\n",
              "      <td>5.0</td>\n",
              "      <td>1485216000</td>\n",
              "    </tr>\n",
              "    <tr>\n",
              "      <th>3</th>\n",
              "      <td>B00001P4ZH</td>\n",
              "      <td>ABMF4UC4Z00NT</td>\n",
              "      <td>2.0</td>\n",
              "      <td>1473638400</td>\n",
              "    </tr>\n",
              "    <tr>\n",
              "      <th>4</th>\n",
              "      <td>B00001P4ZH</td>\n",
              "      <td>A2WJOOZA5T2KQ5</td>\n",
              "      <td>1.0</td>\n",
              "      <td>1462579200</td>\n",
              "    </tr>\n",
              "  </tbody>\n",
              "</table>\n",
              "</div>\n",
              "      <button class=\"colab-df-convert\" onclick=\"convertToInteractive('df-43ac0299-db06-4ea8-878e-95255eeeb1b6')\"\n",
              "              title=\"Convert this dataframe to an interactive table.\"\n",
              "              style=\"display:none;\">\n",
              "        \n",
              "  <svg xmlns=\"http://www.w3.org/2000/svg\" height=\"24px\"viewBox=\"0 0 24 24\"\n",
              "       width=\"24px\">\n",
              "    <path d=\"M0 0h24v24H0V0z\" fill=\"none\"/>\n",
              "    <path d=\"M18.56 5.44l.94 2.06.94-2.06 2.06-.94-2.06-.94-.94-2.06-.94 2.06-2.06.94zm-11 1L8.5 8.5l.94-2.06 2.06-.94-2.06-.94L8.5 2.5l-.94 2.06-2.06.94zm10 10l.94 2.06.94-2.06 2.06-.94-2.06-.94-.94-2.06-.94 2.06-2.06.94z\"/><path d=\"M17.41 7.96l-1.37-1.37c-.4-.4-.92-.59-1.43-.59-.52 0-1.04.2-1.43.59L10.3 9.45l-7.72 7.72c-.78.78-.78 2.05 0 2.83L4 21.41c.39.39.9.59 1.41.59.51 0 1.02-.2 1.41-.59l7.78-7.78 2.81-2.81c.8-.78.8-2.07 0-2.86zM5.41 20L4 18.59l7.72-7.72 1.47 1.35L5.41 20z\"/>\n",
              "  </svg>\n",
              "      </button>\n",
              "      \n",
              "  <style>\n",
              "    .colab-df-container {\n",
              "      display:flex;\n",
              "      flex-wrap:wrap;\n",
              "      gap: 12px;\n",
              "    }\n",
              "\n",
              "    .colab-df-convert {\n",
              "      background-color: #E8F0FE;\n",
              "      border: none;\n",
              "      border-radius: 50%;\n",
              "      cursor: pointer;\n",
              "      display: none;\n",
              "      fill: #1967D2;\n",
              "      height: 32px;\n",
              "      padding: 0 0 0 0;\n",
              "      width: 32px;\n",
              "    }\n",
              "\n",
              "    .colab-df-convert:hover {\n",
              "      background-color: #E2EBFA;\n",
              "      box-shadow: 0px 1px 2px rgba(60, 64, 67, 0.3), 0px 1px 3px 1px rgba(60, 64, 67, 0.15);\n",
              "      fill: #174EA6;\n",
              "    }\n",
              "\n",
              "    [theme=dark] .colab-df-convert {\n",
              "      background-color: #3B4455;\n",
              "      fill: #D2E3FC;\n",
              "    }\n",
              "\n",
              "    [theme=dark] .colab-df-convert:hover {\n",
              "      background-color: #434B5C;\n",
              "      box-shadow: 0px 1px 3px 1px rgba(0, 0, 0, 0.15);\n",
              "      filter: drop-shadow(0px 1px 2px rgba(0, 0, 0, 0.3));\n",
              "      fill: #FFFFFF;\n",
              "    }\n",
              "  </style>\n",
              "\n",
              "      <script>\n",
              "        const buttonEl =\n",
              "          document.querySelector('#df-43ac0299-db06-4ea8-878e-95255eeeb1b6 button.colab-df-convert');\n",
              "        buttonEl.style.display =\n",
              "          google.colab.kernel.accessAllowed ? 'block' : 'none';\n",
              "\n",
              "        async function convertToInteractive(key) {\n",
              "          const element = document.querySelector('#df-43ac0299-db06-4ea8-878e-95255eeeb1b6');\n",
              "          const dataTable =\n",
              "            await google.colab.kernel.invokeFunction('convertToInteractive',\n",
              "                                                     [key], {});\n",
              "          if (!dataTable) return;\n",
              "\n",
              "          const docLinkHtml = 'Like what you see? Visit the ' +\n",
              "            '<a target=\"_blank\" href=https://colab.research.google.com/notebooks/data_table.ipynb>data table notebook</a>'\n",
              "            + ' to learn more about interactive tables.';\n",
              "          element.innerHTML = '';\n",
              "          dataTable['output_type'] = 'display_data';\n",
              "          await google.colab.output.renderOutput(dataTable, element);\n",
              "          const docLink = document.createElement('div');\n",
              "          docLink.innerHTML = docLinkHtml;\n",
              "          element.appendChild(docLink);\n",
              "        }\n",
              "      </script>\n",
              "    </div>\n",
              "  </div>\n",
              "  "
            ]
          },
          "metadata": {},
          "execution_count": 5
        }
      ],
      "source": [
        "electronics_rating = pd.read_csv('https://raw.githubusercontent.com/jtsou/Amazon-Recommendation-Engine/main/Electronics_filtered.csv')\n",
        "electronics_rating.head()"
      ]
    },
    {
      "cell_type": "markdown",
      "metadata": {
        "id": "bLFJn9qoWBi8"
      },
      "source": [
        "# Data formatting and exploration"
      ]
    },
    {
      "cell_type": "code",
      "execution_count": null,
      "metadata": {
        "id": "H7ZR0GfOZsU7"
      },
      "outputs": [],
      "source": [
        "electronics_rating['timestamp'] = pd.to_datetime(electronics_rating['timestamp'],unit='s')"
      ]
    },
    {
      "cell_type": "code",
      "execution_count": null,
      "metadata": {
        "colab": {
          "base_uri": "https://localhost:8080/"
        },
        "id": "nPL8LG5LuR1q",
        "outputId": "354c738f-e3a8-404d-cfb4-0bcb26ea7daf"
      },
      "outputs": [
        {
          "output_type": "stream",
          "name": "stdout",
          "text": [
            "<class 'pandas.core.frame.DataFrame'>\n",
            "RangeIndex: 64087 entries, 0 to 64086\n",
            "Data columns (total 4 columns):\n",
            " #   Column     Non-Null Count  Dtype         \n",
            "---  ------     --------------  -----         \n",
            " 0   item       64087 non-null  object        \n",
            " 1   user       64087 non-null  object        \n",
            " 2   rating     64087 non-null  float64       \n",
            " 3   timestamp  64087 non-null  datetime64[ns]\n",
            "dtypes: datetime64[ns](1), float64(1), object(2)\n",
            "memory usage: 2.0+ MB\n"
          ]
        }
      ],
      "source": [
        "electronics_rating.info()"
      ]
    },
    {
      "cell_type": "code",
      "execution_count": null,
      "metadata": {
        "colab": {
          "base_uri": "https://localhost:8080/"
        },
        "id": "C7RTaP6ap5zy",
        "outputId": "8e364eca-adb5-476f-c714-73486b53e5c8"
      },
      "outputs": [
        {
          "output_type": "stream",
          "name": "stderr",
          "text": [
            "/usr/local/lib/python3.7/dist-packages/ipykernel_launcher.py:1: FutureWarning: Treating datetime data as categorical rather than numeric in `.describe` is deprecated and will be removed in a future version of pandas. Specify `datetime_is_numeric=True` to silence this warning and adopt the future behavior now.\n",
            "  \"\"\"Entry point for launching an IPython kernel.\n"
          ]
        },
        {
          "output_type": "execute_result",
          "data": {
            "text/plain": [
              "count                   64087\n",
              "unique                   3352\n",
              "top       2015-12-09 00:00:00\n",
              "freq                       99\n",
              "first     2003-01-18 00:00:00\n",
              "last      2018-09-26 00:00:00\n",
              "Name: timestamp, dtype: object"
            ]
          },
          "metadata": {},
          "execution_count": 10
        }
      ],
      "source": [
        "electronics_rating.timestamp.describe()"
      ]
    },
    {
      "cell_type": "code",
      "execution_count": null,
      "metadata": {
        "colab": {
          "base_uri": "https://localhost:8080/"
        },
        "id": "K9W88zjHq9zX",
        "outputId": "53957b72-4415-44ee-a0bd-379959ee4c3a"
      },
      "outputs": [
        {
          "output_type": "execute_result",
          "data": {
            "text/plain": [
              "count          64087\n",
              "unique          1000\n",
              "top       B003L1ZYYW\n",
              "freq             582\n",
              "Name: item, dtype: object"
            ]
          },
          "metadata": {},
          "execution_count": 11
        }
      ],
      "source": [
        "electronics_rating.item.describe()"
      ]
    },
    {
      "cell_type": "code",
      "execution_count": null,
      "metadata": {
        "colab": {
          "base_uri": "https://localhost:8080/"
        },
        "id": "IHmbQZIDrmyk",
        "outputId": "25d96380-e7ba-4c95-bba4-393f468e5c7a"
      },
      "outputs": [
        {
          "output_type": "execute_result",
          "data": {
            "text/plain": [
              "count              64087\n",
              "unique              4963\n",
              "top       A12DQZKRKTNF5E\n",
              "freq                  59\n",
              "Name: user, dtype: object"
            ]
          },
          "metadata": {},
          "execution_count": 12
        }
      ],
      "source": [
        "electronics_rating.user.describe()"
      ]
    },
    {
      "cell_type": "code",
      "execution_count": null,
      "metadata": {
        "colab": {
          "base_uri": "https://localhost:8080/",
          "height": 206
        },
        "id": "bnNd6nqMbM3q",
        "outputId": "65a345f6-704b-4ebc-833b-c628d9e5594a"
      },
      "outputs": [
        {
          "output_type": "execute_result",
          "data": {
            "text/plain": [
              "   rating  frequency\n",
              "0     1.0       2053\n",
              "1     2.0       1672\n",
              "2     3.0       3554\n",
              "3     4.0      10584\n",
              "4     5.0      46224"
            ],
            "text/html": [
              "\n",
              "  <div id=\"df-1595cfb5-38ea-4dcd-9b50-33792d3de83b\">\n",
              "    <div class=\"colab-df-container\">\n",
              "      <div>\n",
              "<style scoped>\n",
              "    .dataframe tbody tr th:only-of-type {\n",
              "        vertical-align: middle;\n",
              "    }\n",
              "\n",
              "    .dataframe tbody tr th {\n",
              "        vertical-align: top;\n",
              "    }\n",
              "\n",
              "    .dataframe thead th {\n",
              "        text-align: right;\n",
              "    }\n",
              "</style>\n",
              "<table border=\"1\" class=\"dataframe\">\n",
              "  <thead>\n",
              "    <tr style=\"text-align: right;\">\n",
              "      <th></th>\n",
              "      <th>rating</th>\n",
              "      <th>frequency</th>\n",
              "    </tr>\n",
              "  </thead>\n",
              "  <tbody>\n",
              "    <tr>\n",
              "      <th>0</th>\n",
              "      <td>1.0</td>\n",
              "      <td>2053</td>\n",
              "    </tr>\n",
              "    <tr>\n",
              "      <th>1</th>\n",
              "      <td>2.0</td>\n",
              "      <td>1672</td>\n",
              "    </tr>\n",
              "    <tr>\n",
              "      <th>2</th>\n",
              "      <td>3.0</td>\n",
              "      <td>3554</td>\n",
              "    </tr>\n",
              "    <tr>\n",
              "      <th>3</th>\n",
              "      <td>4.0</td>\n",
              "      <td>10584</td>\n",
              "    </tr>\n",
              "    <tr>\n",
              "      <th>4</th>\n",
              "      <td>5.0</td>\n",
              "      <td>46224</td>\n",
              "    </tr>\n",
              "  </tbody>\n",
              "</table>\n",
              "</div>\n",
              "      <button class=\"colab-df-convert\" onclick=\"convertToInteractive('df-1595cfb5-38ea-4dcd-9b50-33792d3de83b')\"\n",
              "              title=\"Convert this dataframe to an interactive table.\"\n",
              "              style=\"display:none;\">\n",
              "        \n",
              "  <svg xmlns=\"http://www.w3.org/2000/svg\" height=\"24px\"viewBox=\"0 0 24 24\"\n",
              "       width=\"24px\">\n",
              "    <path d=\"M0 0h24v24H0V0z\" fill=\"none\"/>\n",
              "    <path d=\"M18.56 5.44l.94 2.06.94-2.06 2.06-.94-2.06-.94-.94-2.06-.94 2.06-2.06.94zm-11 1L8.5 8.5l.94-2.06 2.06-.94-2.06-.94L8.5 2.5l-.94 2.06-2.06.94zm10 10l.94 2.06.94-2.06 2.06-.94-2.06-.94-.94-2.06-.94 2.06-2.06.94z\"/><path d=\"M17.41 7.96l-1.37-1.37c-.4-.4-.92-.59-1.43-.59-.52 0-1.04.2-1.43.59L10.3 9.45l-7.72 7.72c-.78.78-.78 2.05 0 2.83L4 21.41c.39.39.9.59 1.41.59.51 0 1.02-.2 1.41-.59l7.78-7.78 2.81-2.81c.8-.78.8-2.07 0-2.86zM5.41 20L4 18.59l7.72-7.72 1.47 1.35L5.41 20z\"/>\n",
              "  </svg>\n",
              "      </button>\n",
              "      \n",
              "  <style>\n",
              "    .colab-df-container {\n",
              "      display:flex;\n",
              "      flex-wrap:wrap;\n",
              "      gap: 12px;\n",
              "    }\n",
              "\n",
              "    .colab-df-convert {\n",
              "      background-color: #E8F0FE;\n",
              "      border: none;\n",
              "      border-radius: 50%;\n",
              "      cursor: pointer;\n",
              "      display: none;\n",
              "      fill: #1967D2;\n",
              "      height: 32px;\n",
              "      padding: 0 0 0 0;\n",
              "      width: 32px;\n",
              "    }\n",
              "\n",
              "    .colab-df-convert:hover {\n",
              "      background-color: #E2EBFA;\n",
              "      box-shadow: 0px 1px 2px rgba(60, 64, 67, 0.3), 0px 1px 3px 1px rgba(60, 64, 67, 0.15);\n",
              "      fill: #174EA6;\n",
              "    }\n",
              "\n",
              "    [theme=dark] .colab-df-convert {\n",
              "      background-color: #3B4455;\n",
              "      fill: #D2E3FC;\n",
              "    }\n",
              "\n",
              "    [theme=dark] .colab-df-convert:hover {\n",
              "      background-color: #434B5C;\n",
              "      box-shadow: 0px 1px 3px 1px rgba(0, 0, 0, 0.15);\n",
              "      filter: drop-shadow(0px 1px 2px rgba(0, 0, 0, 0.3));\n",
              "      fill: #FFFFFF;\n",
              "    }\n",
              "  </style>\n",
              "\n",
              "      <script>\n",
              "        const buttonEl =\n",
              "          document.querySelector('#df-1595cfb5-38ea-4dcd-9b50-33792d3de83b button.colab-df-convert');\n",
              "        buttonEl.style.display =\n",
              "          google.colab.kernel.accessAllowed ? 'block' : 'none';\n",
              "\n",
              "        async function convertToInteractive(key) {\n",
              "          const element = document.querySelector('#df-1595cfb5-38ea-4dcd-9b50-33792d3de83b');\n",
              "          const dataTable =\n",
              "            await google.colab.kernel.invokeFunction('convertToInteractive',\n",
              "                                                     [key], {});\n",
              "          if (!dataTable) return;\n",
              "\n",
              "          const docLinkHtml = 'Like what you see? Visit the ' +\n",
              "            '<a target=\"_blank\" href=https://colab.research.google.com/notebooks/data_table.ipynb>data table notebook</a>'\n",
              "            + ' to learn more about interactive tables.';\n",
              "          element.innerHTML = '';\n",
              "          dataTable['output_type'] = 'display_data';\n",
              "          await google.colab.output.renderOutput(dataTable, element);\n",
              "          const docLink = document.createElement('div');\n",
              "          docLink.innerHTML = docLinkHtml;\n",
              "          element.appendChild(docLink);\n",
              "        }\n",
              "      </script>\n",
              "    </div>\n",
              "  </div>\n",
              "  "
            ]
          },
          "metadata": {},
          "execution_count": 13
        }
      ],
      "source": [
        "# Find out the rating distribution\n",
        "electronics_rating.groupby('rating').size().reset_index(name='frequency')"
      ]
    },
    {
      "cell_type": "code",
      "execution_count": null,
      "metadata": {
        "colab": {
          "base_uri": "https://localhost:8080/",
          "height": 316
        },
        "id": "5yilJuVsSZDb",
        "outputId": "41bcc110-c3ea-43d0-f540-140225978e28"
      },
      "outputs": [
        {
          "output_type": "execute_result",
          "data": {
            "text/plain": [
              "array([[<matplotlib.axes._subplots.AxesSubplot object at 0x7fd07cb8b9d0>]],\n",
              "      dtype=object)"
            ]
          },
          "metadata": {},
          "execution_count": 14
        },
        {
          "output_type": "display_data",
          "data": {
            "text/plain": [
              "<Figure size 432x288 with 1 Axes>"
            ],
            "image/png": "[encoded data removed]"
          },
          "metadata": {
            "needs_background": "light"
          }
        }
      ],
      "source": [
        "electronics_rating.hist(column=\"rating\",grid=False,bins=5)"
      ]
    },
    {
      "cell_type": "markdown",
      "metadata": {
        "id": "ndXMI3HQSeog"
      },
      "source": [
        "# Create user_id and item_id columns - Ming Lu"
      ]
    },
    {
      "cell_type": "code",
      "execution_count": null,
      "metadata": {
        "id": "E54XNzHcSeDh"
      },
      "outputs": [],
      "source": [
        "# Create indices df for user and item lists\n",
        "user_list = pd.DataFrame(electronics_rating.user.unique(),columns=[\"user\"]).reset_index().rename(columns={\"index\":\"user_index\"})\n",
        "item_list = pd.DataFrame(electronics_rating.item.unique(),columns=[\"item\"]).reset_index().rename(columns={\"index\":\"item_index\"})"
      ]
    },
    {
      "cell_type": "code",
      "execution_count": null,
      "metadata": {
        "id": "y7xqZYwLSqRx"
      },
      "outputs": [],
      "source": [
        "# Add user_id and item_id columns to the df\n",
        "electronics_rating = electronics_rating.merge(user_list,on='user')\n",
        "electronics_rating = electronics_rating.merge(item_list,on='item')"
      ]
    },
    {
      "cell_type": "code",
      "execution_count": null,
      "metadata": {
        "colab": {
          "base_uri": "https://localhost:8080/",
          "height": 206
        },
        "id": "y5TwNzUnSrXL",
        "outputId": "73f09786-4d54-43e7-fe42-ff3930bbb287"
      },
      "outputs": [
        {
          "output_type": "execute_result",
          "data": {
            "text/plain": [
              "         item            user  rating  timestamp  user_index  item_index\n",
              "0  B00001P4ZH  A2VFN33XFSDW9C     4.0 2017-08-11           0           0\n",
              "1  B00001P4ZH  A19MJFMEE3035J     2.0 2017-03-18           1           0\n",
              "2  B00001P4ZH  A1R42G8S6JIOEI     5.0 2017-01-24           2           0\n",
              "3  B00001P4ZH   ABMF4UC4Z00NT     2.0 2016-09-12           3           0\n",
              "4  B00001P4ZH  A2WJOOZA5T2KQ5     1.0 2016-05-07           4           0"
            ],
            "text/html": [
              "\n",
              "  <div id=\"df-75f0cc5e-5848-4916-95fb-649564687996\">\n",
              "    <div class=\"colab-df-container\">\n",
              "      <div>\n",
              "<style scoped>\n",
              "    .dataframe tbody tr th:only-of-type {\n",
              "        vertical-align: middle;\n",
              "    }\n",
              "\n",
              "    .dataframe tbody tr th {\n",
              "        vertical-align: top;\n",
              "    }\n",
              "\n",
              "    .dataframe thead th {\n",
              "        text-align: right;\n",
              "    }\n",
              "</style>\n",
              "<table border=\"1\" class=\"dataframe\">\n",
              "  <thead>\n",
              "    <tr style=\"text-align: right;\">\n",
              "      <th></th>\n",
              "      <th>item</th>\n",
              "      <th>user</th>\n",
              "      <th>rating</th>\n",
              "      <th>timestamp</th>\n",
              "      <th>user_index</th>\n",
              "      <th>item_index</th>\n",
              "    </tr>\n",
              "  </thead>\n",
              "  <tbody>\n",
              "    <tr>\n",
              "      <th>0</th>\n",
              "      <td>B00001P4ZH</td>\n",
              "      <td>A2VFN33XFSDW9C</td>\n",
              "      <td>4.0</td>\n",
              "      <td>2017-08-11</td>\n",
              "      <td>0</td>\n",
              "      <td>0</td>\n",
              "    </tr>\n",
              "    <tr>\n",
              "      <th>1</th>\n",
              "      <td>B00001P4ZH</td>\n",
              "      <td>A19MJFMEE3035J</td>\n",
              "      <td>2.0</td>\n",
              "      <td>2017-03-18</td>\n",
              "      <td>1</td>\n",
              "      <td>0</td>\n",
              "    </tr>\n",
              "    <tr>\n",
              "      <th>2</th>\n",
              "      <td>B00001P4ZH</td>\n",
              "      <td>A1R42G8S6JIOEI</td>\n",
              "      <td>5.0</td>\n",
              "      <td>2017-01-24</td>\n",
              "      <td>2</td>\n",
              "      <td>0</td>\n",
              "    </tr>\n",
              "    <tr>\n",
              "      <th>3</th>\n",
              "      <td>B00001P4ZH</td>\n",
              "      <td>ABMF4UC4Z00NT</td>\n",
              "      <td>2.0</td>\n",
              "      <td>2016-09-12</td>\n",
              "      <td>3</td>\n",
              "      <td>0</td>\n",
              "    </tr>\n",
              "    <tr>\n",
              "      <th>4</th>\n",
              "      <td>B00001P4ZH</td>\n",
              "      <td>A2WJOOZA5T2KQ5</td>\n",
              "      <td>1.0</td>\n",
              "      <td>2016-05-07</td>\n",
              "      <td>4</td>\n",
              "      <td>0</td>\n",
              "    </tr>\n",
              "  </tbody>\n",
              "</table>\n",
              "</div>\n",
              "      <button class=\"colab-df-convert\" onclick=\"convertToInteractive('df-75f0cc5e-5848-4916-95fb-649564687996')\"\n",
              "              title=\"Convert this dataframe to an interactive table.\"\n",
              "              style=\"display:none;\">\n",
              "        \n",
              "  <svg xmlns=\"http://www.w3.org/2000/svg\" height=\"24px\"viewBox=\"0 0 24 24\"\n",
              "       width=\"24px\">\n",
              "    <path d=\"M0 0h24v24H0V0z\" fill=\"none\"/>\n",
              "    <path d=\"M18.56 5.44l.94 2.06.94-2.06 2.06-.94-2.06-.94-.94-2.06-.94 2.06-2.06.94zm-11 1L8.5 8.5l.94-2.06 2.06-.94-2.06-.94L8.5 2.5l-.94 2.06-2.06.94zm10 10l.94 2.06.94-2.06 2.06-.94-2.06-.94-.94-2.06-.94 2.06-2.06.94z\"/><path d=\"M17.41 7.96l-1.37-1.37c-.4-.4-.92-.59-1.43-.59-.52 0-1.04.2-1.43.59L10.3 9.45l-7.72 7.72c-.78.78-.78 2.05 0 2.83L4 21.41c.39.39.9.59 1.41.59.51 0 1.02-.2 1.41-.59l7.78-7.78 2.81-2.81c.8-.78.8-2.07 0-2.86zM5.41 20L4 18.59l7.72-7.72 1.47 1.35L5.41 20z\"/>\n",
              "  </svg>\n",
              "      </button>\n",
              "      \n",
              "  <style>\n",
              "    .colab-df-container {\n",
              "      display:flex;\n",
              "      flex-wrap:wrap;\n",
              "      gap: 12px;\n",
              "    }\n",
              "\n",
              "    .colab-df-convert {\n",
              "      background-color: #E8F0FE;\n",
              "      border: none;\n",
              "      border-radius: 50%;\n",
              "      cursor: pointer;\n",
              "      display: none;\n",
              "      fill: #1967D2;\n",
              "      height: 32px;\n",
              "      padding: 0 0 0 0;\n",
              "      width: 32px;\n",
              "    }\n",
              "\n",
              "    .colab-df-convert:hover {\n",
              "      background-color: #E2EBFA;\n",
              "      box-shadow: 0px 1px 2px rgba(60, 64, 67, 0.3), 0px 1px 3px 1px rgba(60, 64, 67, 0.15);\n",
              "      fill: #174EA6;\n",
              "    }\n",
              "\n",
              "    [theme=dark] .colab-df-convert {\n",
              "      background-color: #3B4455;\n",
              "      fill: #D2E3FC;\n",
              "    }\n",
              "\n",
              "    [theme=dark] .colab-df-convert:hover {\n",
              "      background-color: #434B5C;\n",
              "      box-shadow: 0px 1px 3px 1px rgba(0, 0, 0, 0.15);\n",
              "      filter: drop-shadow(0px 1px 2px rgba(0, 0, 0, 0.3));\n",
              "      fill: #FFFFFF;\n",
              "    }\n",
              "  </style>\n",
              "\n",
              "      <script>\n",
              "        const buttonEl =\n",
              "          document.querySelector('#df-75f0cc5e-5848-4916-95fb-649564687996 button.colab-df-convert');\n",
              "        buttonEl.style.display =\n",
              "          google.colab.kernel.accessAllowed ? 'block' : 'none';\n",
              "\n",
              "        async function convertToInteractive(key) {\n",
              "          const element = document.querySelector('#df-75f0cc5e-5848-4916-95fb-649564687996');\n",
              "          const dataTable =\n",
              "            await google.colab.kernel.invokeFunction('convertToInteractive',\n",
              "                                                     [key], {});\n",
              "          if (!dataTable) return;\n",
              "\n",
              "          const docLinkHtml = 'Like what you see? Visit the ' +\n",
              "            '<a target=\"_blank\" href=https://colab.research.google.com/notebooks/data_table.ipynb>data table notebook</a>'\n",
              "            + ' to learn more about interactive tables.';\n",
              "          element.innerHTML = '';\n",
              "          dataTable['output_type'] = 'display_data';\n",
              "          await google.colab.output.renderOutput(dataTable, element);\n",
              "          const docLink = document.createElement('div');\n",
              "          docLink.innerHTML = docLinkHtml;\n",
              "          element.appendChild(docLink);\n",
              "        }\n",
              "      </script>\n",
              "    </div>\n",
              "  </div>\n",
              "  "
            ]
          },
          "metadata": {},
          "execution_count": 17
        }
      ],
      "source": [
        "electronics_rating.head()"
      ]
    },
    {
      "cell_type": "markdown",
      "metadata": {
        "id": "7ijLP4bHSw45"
      },
      "source": [
        "# Split train and test data - Ming Lu"
      ]
    },
    {
      "cell_type": "code",
      "execution_count": null,
      "metadata": {
        "id": "cHxjuHtzS3_p"
      },
      "outputs": [],
      "source": [
        "from sklearn.model_selection import train_test_split\n",
        "\n",
        "train, test = train_test_split(electronics_rating, test_size=0.2, random_state=42, stratify=electronics_rating.user)"
      ]
    },
    {
      "cell_type": "code",
      "execution_count": null,
      "metadata": {
        "colab": {
          "base_uri": "https://localhost:8080/"
        },
        "id": "zNOgGAjiS4DY",
        "outputId": "b53b084d-540d-4575-f59e-f890a3567516"
      },
      "outputs": [
        {
          "output_type": "execute_result",
          "data": {
            "text/plain": [
              "(4963, 4963)"
            ]
          },
          "metadata": {},
          "execution_count": 19
        }
      ],
      "source": [
        "# Validate both datasets contains the same users\n",
        "train.user.unique().shape[0],test.user.unique().shape[0]"
      ]
    },
    {
      "cell_type": "markdown",
      "metadata": {
        "id": "liinbHBjlqi-"
      },
      "source": [
        "## 2. Build similarity function to calculate distance between users - *Jennifer Tsou*"
      ]
    },
    {
      "cell_type": "code",
      "execution_count": null,
      "metadata": {
        "id": "5ttvLwISiKNS"
      },
      "outputs": [],
      "source": [
        "# KNN model with cosine\n",
        "from sklearn.neighbors import NearestNeighbors\n",
        "n_users = electronics_rating.user.unique().shape[0]\n",
        "n_items = electronics_rating.item.unique().shape[0]"
      ]
    },
    {
      "cell_type": "code",
      "execution_count": null,
      "metadata": {
        "id": "S2UtYCejTEiK"
      },
      "outputs": [],
      "source": [
        "# create user-item matrix for training dataset\n",
        "# Ming - I updated the for loop to generate the matrix using the user_id and item_id\n",
        "data_matrix_train = np.zeros((n_users, n_items))\n",
        "for line in train.itertuples():\n",
        "    data_matrix_train[line[5], line[6]] = line[3]"
      ]
    },
    {
      "cell_type": "code",
      "execution_count": null,
      "metadata": {
        "id": "26yMBa7xTHNk"
      },
      "outputs": [],
      "source": [
        "# create user-item matrix for testing dataset\n",
        "data_matrix_test = np.zeros((n_users, n_items))\n",
        "for line in test.itertuples():\n",
        "    data_matrix_test[line[5], line[6]] = line[3]"
      ]
    },
    {
      "cell_type": "code",
      "execution_count": null,
      "metadata": {
        "id": "XfEvO6EITL-R"
      },
      "outputs": [],
      "source": [
        "# calculate similarity\n",
        "from sklearn.metrics.pairwise import pairwise_distances \n",
        "user_similarity = pairwise_distances(data_matrix_train, metric='cosine')\n",
        "item_similarity = pairwise_distances(data_matrix_train.T, metric='cosine')"
      ]
    },
    {
      "cell_type": "markdown",
      "metadata": {
        "id": "GOpt9D5wmZ1W"
      },
      "source": [
        "## 3. Build function to make predictions based on similarity - *Jennifer Tsou*"
      ]
    },
    {
      "cell_type": "code",
      "execution_count": null,
      "metadata": {
        "id": "lpO--fDVg5wz"
      },
      "outputs": [],
      "source": [
        "# build function to make predictions based on similarity\n",
        "def predict(ratings, similarity, type='user'):\n",
        "    if type == 'user':\n",
        "        mean_user_rating = ratings.mean(axis=1)\n",
        "        #We use np.newaxis so that mean_user_rating has same format as ratings\n",
        "        ratings_diff = (ratings - mean_user_rating[:, np.newaxis])\n",
        "        pred = mean_user_rating[:, np.newaxis] + similarity.dot(ratings_diff) / np.array([np.abs(similarity).sum(axis=1)]).T\n",
        "    elif type == 'item':\n",
        "        pred = ratings.dot(similarity) / np.array([np.abs(similarity).sum(axis=1)])\n",
        "    return pred\n"
      ]
    },
    {
      "cell_type": "code",
      "execution_count": null,
      "metadata": {
        "id": "hyzvTLgD3ok0"
      },
      "outputs": [],
      "source": [
        "# make prediction on training data\n",
        "user_prediction = predict(data_matrix_train, user_similarity, type='user')\n",
        "item_prediction = predict(data_matrix_train, item_similarity, type='item')\n",
        "# make prediction on testing data\n",
        "#user_prediction = predict(data_matrix_test, user_similarity, type='user')\n",
        "#item_prediction = predict(data_matrix_test, item_similarity, type='item')"
      ]
    },
    {
      "cell_type": "code",
      "execution_count": null,
      "metadata": {
        "id": "O8ueMYAtwsLT"
      },
      "outputs": [],
      "source": [
        "# Computing total mean squared error\n",
        "def mse(data_matrix,prediction):\n",
        "    xs, ys = data_matrix.nonzero()\n",
        "    error = 0\n",
        "    for x, y in zip(xs, ys):\n",
        "        error += pow(data_matrix[x, y] - prediction[x, y], 2)\n",
        "    return np.sqrt(error)"
      ]
    },
    {
      "cell_type": "code",
      "execution_count": null,
      "metadata": {
        "colab": {
          "base_uri": "https://localhost:8080/"
        },
        "id": "Qijt58OewsyV",
        "outputId": "4454a523-40c7-4185-df2f-8df70078b7b1"
      },
      "outputs": [
        {
          "output_type": "stream",
          "name": "stdout",
          "text": [
            "MSE_user:  510.8944645208593\n",
            "MSE_item:  516.8892642813942\n"
          ]
        }
      ],
      "source": [
        "MSE_user = mse(data_matrix_test, user_prediction)\n",
        "MSE_item = mse(data_matrix_test, item_prediction)\n",
        "print('MSE_user: ', MSE_user)\n",
        "print('MSE_item: ', MSE_item)"
      ]
    },
    {
      "cell_type": "markdown",
      "metadata": {
        "id": "gZiNS0Rhm05Y"
      },
      "source": [
        "## 4. Build utility functions for training the models - MSE, SGD, etc. - *Ming Lu*"
      ]
    },
    {
      "cell_type": "code",
      "execution_count": null,
      "metadata": {
        "id": "WOJ_I-jUTqDq"
      },
      "outputs": [],
      "source": [
        "# Full user rating-item matrix\n",
        "def full_matrix(b,user_bias,item_bias,P,Q):\n",
        "    return b + user_bias[:,np.newaxis] + item_bias[np.newaxis:,] + P.dot(Q.T)"
      ]
    },
    {
      "cell_type": "code",
      "execution_count": null,
      "metadata": {
        "id": "hMtlmbXYTrUL"
      },
      "outputs": [],
      "source": [
        "# Ratings for user i and item j\n",
        "def get_rating(b,user_bias,item_bias,P,Q,i,j):\n",
        "    prediction = b + user_bias[i] + item_bias[j] + P[i, :].dot(Q[j, :].T)\n",
        "    return prediction"
      ]
    },
    {
      "cell_type": "code",
      "execution_count": null,
      "metadata": {
        "id": "dsC99FraTtzZ"
      },
      "outputs": [],
      "source": [
        "# Stochastic gradient descent to get optimized P and Q matrix\n",
        "def sgd(b,user_bias,item_bias,P,Q,samples,alpha,beta):\n",
        "    # alpha – Learning rate for stochastic gradient descent\n",
        "    # beta – Regularization parameter for bias\n",
        "    \n",
        "    for i, j, r in samples:\n",
        "        prediction = get_rating(b,user_bias,item_bias,P,Q,i,j)\n",
        "        e = (r - prediction)\n",
        "\n",
        "        # Update the bias terms and P & Q matrices\n",
        "        user_bias[i] += alpha * (e - beta * user_bias[i])\n",
        "        item_bias[j] += alpha * (e - beta * item_bias[j])\n",
        "\n",
        "        P[i, :] += alpha * (e * Q[j, :] - beta * P[i,:])\n",
        "        Q[j, :] += alpha * (e * P[i, :] - beta * Q[j,:])\n",
        "    return user_bias, item_bias, P, Q"
      ]
    },
    {
      "cell_type": "markdown",
      "metadata": {
        "id": "7KNkZk34psG_"
      },
      "source": [
        "## 5. Build training function - *Jonhua Qin*"
      ]
    },
    {
      "cell_type": "code",
      "execution_count": null,
      "metadata": {
        "id": "T89vGWprTxSD"
      },
      "outputs": [],
      "source": [
        "def train_model(data_matrix, K, alpha, beta, iterations=100):\n",
        "    # data_matrix – The user-item rating matrix \n",
        "    # K – Number of latent features\n",
        "    # iterations – Number of iterations to perform stochastic gradient descent\n",
        "    \n",
        "    # Define number of user and items\n",
        "    n_users = data_matrix.shape[0]\n",
        "    n_items = data_matrix.shape[1]\n",
        "    \n",
        "    # Initializing user-feature (P) and item-feature (Q) matrix \n",
        "    P = np.random.normal(scale=1./K, size=(n_users, K))\n",
        "    Q = np.random.normal(scale=1./K, size=(n_items, K))\n",
        "\n",
        "    # Initialize bias terms\n",
        "    user_bias = np.zeros(n_users)\n",
        "    item_bias = np.zeros(n_items)\n",
        "    b = np.mean(data_matrix[np.where(data_matrix != 0)])\n",
        "    \n",
        "    # Define list of training samples\n",
        "    samples = [\n",
        "    (i, j, data_matrix[i, j])\n",
        "    for i in range(n_users)\n",
        "    for j in range(n_items)\n",
        "    if data_matrix[i, j] > 0\n",
        "    ]\n",
        "    \n",
        "    # Stochastic gradient descent for given number of iterations\n",
        "    training_process = []\n",
        "    for i in range(iterations):\n",
        "        np.random.shuffle(samples)\n",
        "        user_bias, item_bias, P, Q = sgd(b,user_bias,item_bias,P,Q,samples,alpha,beta)\n",
        "        prediction = full_matrix(b,user_bias,item_bias,P,Q)\n",
        "        error = mse(data_matrix,prediction)\n",
        "        training_process.append((i, error))\n",
        "        if (i+1) % 20 == 0:\n",
        "            print(\"Iteration: %d ; error = %.4f\" % (i+1, error))\n",
        "\n",
        "    return training_process,b,user_bias,item_bias,P,Q"
      ]
    },
    {
      "cell_type": "markdown",
      "metadata": {
        "id": "jeEBi4-Hp0y3"
      },
      "source": [
        "## 6. Make predictions using the model - *Jonhua Qin*"
      ]
    },
    {
      "cell_type": "code",
      "execution_count": null,
      "metadata": {
        "colab": {
          "base_uri": "https://localhost:8080/"
        },
        "id": "0D4jp-UiTy8x",
        "outputId": "9fc3d0a6-18e1-4f7c-d7c1-7715f00c82ea"
      },
      "outputs": [
        {
          "output_type": "stream",
          "name": "stdout",
          "text": [
            "Iteration: 20 ; error = 199.4380\n",
            "Iteration: 40 ; error = 192.3041\n",
            "Iteration: 60 ; error = 187.6527\n",
            "Iteration: 80 ; error = 184.2580\n",
            "Iteration: 100 ; error = 181.4742\n"
          ]
        }
      ],
      "source": [
        "# predict the missing ratings with alpha = 0.001, beta=0.01, K=20\n",
        "training_process,b,user_bias,item_bias,P,Q = train_model(data_matrix_train, K=20, alpha=0.001, beta=0.01, iterations=100)"
      ]
    },
    {
      "cell_type": "code",
      "execution_count": null,
      "metadata": {
        "colab": {
          "base_uri": "https://localhost:8080/"
        },
        "id": "vuxHbFJXT0Ce",
        "outputId": "7b03bca2-7d24-4fae-c5d4-742dc985ef49"
      },
      "outputs": [
        {
          "output_type": "stream",
          "name": "stdout",
          "text": [
            "Iteration: 20 ; error = 199.6648\n",
            "Iteration: 40 ; error = 192.7936\n",
            "Iteration: 60 ; error = 188.4594\n",
            "Iteration: 80 ; error = 185.4842\n",
            "Iteration: 100 ; error = 183.2813\n"
          ]
        }
      ],
      "source": [
        "# predict the missing ratings with alpha = 0.001, beta=0.01, K=50\n",
        "training_process_2,b_2,user_bias_2,item_bias_2,P_2,Q_2 = train_model(data_matrix_train, K=50, alpha=0.001, beta=0.01, iterations=100)"
      ]
    },
    {
      "cell_type": "code",
      "execution_count": null,
      "metadata": {
        "colab": {
          "base_uri": "https://localhost:8080/"
        },
        "id": "Vdk9URD8T1SR",
        "outputId": "e2b46a4f-13b7-428e-bff4-6b7abda30841"
      },
      "outputs": [
        {
          "output_type": "stream",
          "name": "stdout",
          "text": [
            "Iteration: 20 ; error = 163.4672\n",
            "Iteration: 40 ; error = 98.3780\n",
            "Iteration: 60 ; error = 57.0105\n",
            "Iteration: 80 ; error = 37.9154\n",
            "Iteration: 100 ; error = 28.3092\n"
          ]
        }
      ],
      "source": [
        "# predict the missing ratings with alpha = 0.01, beta=0.01, K=20\n",
        "training_process_3,b_3,user_bias_3,item_bias_3,P_3,Q_3 = train_model(data_matrix_train, K=20, alpha=0.01, beta=0.01, iterations=100)"
      ]
    },
    {
      "cell_type": "code",
      "execution_count": null,
      "metadata": {
        "colab": {
          "base_uri": "https://localhost:8080/"
        },
        "id": "j_ba43JeT2Qa",
        "outputId": "2c7fdaab-104e-4d8f-afe8-e0405b88eb7c"
      },
      "outputs": [
        {
          "output_type": "stream",
          "name": "stdout",
          "text": [
            "Iteration: 20 ; error = 199.6858\n",
            "Iteration: 40 ; error = 192.8633\n",
            "Iteration: 60 ; error = 188.6084\n",
            "Iteration: 80 ; error = 185.7383\n",
            "Iteration: 100 ; error = 183.6894\n"
          ]
        }
      ],
      "source": [
        "# predict the missing ratings with alpha = 0.001, beta=0.1, K=20\n",
        "training_process_4,b_4,user_bias_4,item_bias_4,P_4,Q_4 = train_model(data_matrix_train, K=20, alpha=0.001, beta=0.1, iterations=100)"
      ]
    },
    {
      "cell_type": "code",
      "execution_count": null,
      "metadata": {
        "colab": {
          "base_uri": "https://localhost:8080/"
        },
        "id": "EUp-0tzqT305",
        "outputId": "b8e26a2e-b2ca-4c91-8ceb-7c7d10ab7276"
      },
      "outputs": [
        {
          "output_type": "stream",
          "name": "stdout",
          "text": [
            "Iteration: 20 ; error = 181.4399\n",
            "Iteration: 40 ; error = 163.8237\n",
            "Iteration: 60 ; error = 132.6573\n",
            "Iteration: 80 ; error = 100.4325\n",
            "Iteration: 100 ; error = 75.6433\n"
          ]
        }
      ],
      "source": [
        "# predict the missing ratings with alpha = 0.005, beta=0.01, K=20\n",
        "training_process_5,b_5,user_bias_5,item_bias_5,P_5,Q_5 = train_model(data_matrix_train, K=20, alpha=0.005, beta=0.01, iterations=100)"
      ]
    },
    {
      "cell_type": "markdown",
      "metadata": {
        "id": "AvdhP5_3T6LY"
      },
      "source": [
        "Convert the best model into prediction matrix"
      ]
    },
    {
      "cell_type": "code",
      "source": [
        "# Round the predictions to integer ratings\n",
        "prediction_1 = np.around(full_matrix(b,user_bias,item_bias,P,Q),0)\n",
        "MSE_1 = mse(data_matrix_test, prediction_1)\n",
        "print(MSE_1)"
      ],
      "metadata": {
        "colab": {
          "base_uri": "https://localhost:8080/"
        },
        "id": "N0hL8pZ4FReL",
        "outputId": "43030998-21bf-409e-9707-90d7480c73db"
      },
      "execution_count": null,
      "outputs": [
        {
          "output_type": "stream",
          "name": "stdout",
          "text": [
            "103.40212763768452\n"
          ]
        }
      ]
    },
    {
      "cell_type": "code",
      "source": [
        "# Round the predictions to integer ratings\n",
        "prediction_2 = np.around(full_matrix(b_2,user_bias_2,item_bias_2,P_2,Q_2),0)\n",
        "MSE_2 = mse(data_matrix_test, prediction_2)\n",
        "print(MSE_2)"
      ],
      "metadata": {
        "colab": {
          "base_uri": "https://localhost:8080/"
        },
        "id": "01d9ejFxFSDz",
        "outputId": "662d367d-ee48-48e3-a714-19ac50c94986"
      },
      "execution_count": null,
      "outputs": [
        {
          "output_type": "stream",
          "name": "stdout",
          "text": [
            "103.30053242844394\n"
          ]
        }
      ]
    },
    {
      "cell_type": "code",
      "source": [
        "# Round the predictions to integer ratings\n",
        "prediction_3 = np.around(full_matrix(b_3,user_bias_3,item_bias_3,P_3,Q_3),0)\n",
        "MSE_3 = mse(data_matrix_test, prediction_3)\n",
        "print(MSE_3)"
      ],
      "metadata": {
        "colab": {
          "base_uri": "https://localhost:8080/"
        },
        "id": "ycBCEP3lFSLA",
        "outputId": "78805da9-6ce8-4ebe-bc3e-eb9b79009155"
      },
      "execution_count": null,
      "outputs": [
        {
          "output_type": "stream",
          "name": "stdout",
          "text": [
            "112.26753760548951\n"
          ]
        }
      ]
    },
    {
      "cell_type": "code",
      "source": [
        "# Round the predictions to integer ratings\n",
        "prediction_4 = np.around(full_matrix(b_4,user_bias_4,item_bias_4,P_4,Q_4),0)\n",
        "MSE_4 = mse(data_matrix_test, prediction_4)\n",
        "print(MSE_4)"
      ],
      "metadata": {
        "colab": {
          "base_uri": "https://localhost:8080/"
        },
        "id": "GpoKKu_vFSRA",
        "outputId": "2cc5ce4f-3d9d-484d-aa55-40f23eee4d88"
      },
      "execution_count": null,
      "outputs": [
        {
          "output_type": "stream",
          "name": "stdout",
          "text": [
            "103.39245620450265\n"
          ]
        }
      ]
    },
    {
      "cell_type": "code",
      "source": [
        "# Round the predictions to integer ratings\n",
        "prediction_5 = np.around(full_matrix(b_5,user_bias_5,item_bias_5,P_5,Q_5),0)\n",
        "MSE_5 = mse(data_matrix_test, prediction_5)\n",
        "print(MSE_5)"
      ],
      "metadata": {
        "colab": {
          "base_uri": "https://localhost:8080/"
        },
        "id": "DzZezI8JFSfG",
        "outputId": "9ffc8ed2-0756-4757-96df-0b2580115a25"
      },
      "execution_count": null,
      "outputs": [
        {
          "output_type": "stream",
          "name": "stdout",
          "text": [
            "106.91585476438937\n"
          ]
        }
      ]
    },
    {
      "cell_type": "code",
      "source": [
        "training_process = np.array(training_process)\n",
        "training_process_2 = np.array(training_process_2)\n",
        "training_process_3 = np.array(training_process_3)\n",
        "training_process_4 = np.array(training_process_4)\n",
        "training_process_5 = np.array(training_process_5)"
      ],
      "metadata": {
        "id": "xCb7OniGFbYR"
      },
      "execution_count": null,
      "outputs": []
    },
    {
      "cell_type": "markdown",
      "metadata": {
        "id": "NktQA1V4UFI6"
      },
      "source": [
        "Validate the prediction results with the test dataset - **to be completed**"
      ]
    },
    {
      "cell_type": "markdown",
      "metadata": {
        "id": "ut2m_JwAqKKV"
      },
      "source": [
        "## 7. Visualize Results - *Ming Lu*"
      ]
    },
    {
      "cell_type": "code",
      "execution_count": null,
      "metadata": {
        "colab": {
          "base_uri": "https://localhost:8080/",
          "height": 295
        },
        "id": "Tz6DfogaUMpp",
        "outputId": "bd977a4a-916b-4244-f222-892f782a0275"
      },
      "outputs": [
        {
          "output_type": "display_data",
          "data": {
            "text/plain": [
              "<Figure size 432x288 with 1 Axes>"
            ],
            "image/png": "[encoded data removed]"
          },
          "metadata": {
            "needs_background": "light"
          }
        }
      ],
      "source": [
        "plt.plot(training_process[:,0],training_process[:,1],label=\"model 1\")\n",
        "plt.plot(training_process_2[:,0],training_process_2[:,1],label=\"model 2\")\n",
        "plt.plot(training_process_3[:,0],training_process_3[:,1],label=\"model 3\")\n",
        "plt.plot(training_process_4[:,0],training_process_4[:,1],label=\"model 4\")\n",
        "plt.plot(training_process_5[:,0],training_process_5[:,1],label=\"model 5\")\n",
        "plt.title(\"MSE Cost vs. Iteration\")\n",
        "plt.xlabel(\"Iterations\")\n",
        "plt.ylabel(\"MSE\")\n",
        "plt.legend()\n",
        "plt.show()"
      ]
    }
  ],
  "metadata": {
    "colab": {
      "collapsed_sections": [],
      "name": "ISYE 6740.ipynb",
      "provenance": [],
      "include_colab_link": true
    },
    "kernelspec": {
      "display_name": "Python 3",
      "name": "python3"
    },
    "language_info": {
      "name": "python"
    }
  },
  "nbformat": 4,
  "nbformat_minor": 0
}
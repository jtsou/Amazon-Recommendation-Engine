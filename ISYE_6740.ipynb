{
  "nbformat": 4,
  "nbformat_minor": 0,
  "metadata": {
    "colab": {
      "name": "ISYE 6740.ipynb",
      "provenance": [],
      "collapsed_sections": [],
      "include_colab_link": true
    },
    "kernelspec": {
      "name": "python3",
      "display_name": "Python 3"
    },
    "language_info": {
      "name": "python"
    }
  },
  "cells": [
    {
      "cell_type": "markdown",
      "metadata": {
        "id": "view-in-github",
        "colab_type": "text"
      },
      "source": [
        "<a href=\"https://colab.research.google.com/github/jtsou/Amazon-Recommendation-Engine/blob/main/ISYE_6740.ipynb\" target=\"_parent\"><img src=\"https://colab.research.google.com/assets/colab-badge.svg\" alt=\"Open In Colab\"/></a>"
      ]
    },
    {
      "cell_type": "markdown",
      "source": [
        "# Final Project - Build recommendation engine using Amazon electronic products dataset\n",
        "\n"
      ],
      "metadata": {
        "id": "IG_v-_u5qRUn"
      }
    },
    {
      "cell_type": "code",
      "execution_count": null,
      "metadata": {
        "id": "j7539rMENc60"
      },
      "outputs": [],
      "source": [
        "import os\n",
        "import json\n",
        "import gzip\n",
        "import pandas as pd\n",
        "from urllib.request import urlopen\n",
        "import seaborn\n",
        "from matplotlib import pyplot as plt\n",
        "import random\n",
        "import numpy as np\n",
        "from tqdm import tqdm_notebook as tqdm\n",
        "from collections import defaultdict\n",
        "# import wget"
      ]
    },
    {
      "cell_type": "markdown",
      "source": [
        "## 1. Import data and build user/items dataframe - *Jennifer Tsou*"
      ],
      "metadata": {
        "id": "vIsfZkR_mM8_"
      }
    },
    {
      "cell_type": "code",
      "source": [
        "# !wget http://deepyeti.ucsd.edu/jianmo/amazon/categoryFilesSmall/Electronics.csv"
      ],
      "metadata": {
        "id": "VW1rdCx5N2oM",
        "colab": {
          "base_uri": "https://localhost:8080/"
        },
        "outputId": "69a92221-58cf-431d-d3ec-e9bf61d621c7"
      },
      "execution_count": null,
      "outputs": [
        {
          "output_type": "stream",
          "name": "stdout",
          "text": [
            "--2022-04-18 04:41:41--  http://deepyeti.ucsd.edu/jianmo/amazon/categoryFilesSmall/Electronics.csv\n",
            "Resolving deepyeti.ucsd.edu (deepyeti.ucsd.edu)... 169.228.63.50\n",
            "Connecting to deepyeti.ucsd.edu (deepyeti.ucsd.edu)|169.228.63.50|:80... connected.\n",
            "HTTP request sent, awaiting response... 200 OK\n",
            "Length: 876247561 (836M) [application/octet-stream]\n",
            "Saving to: ‘Electronics.csv.2’\n",
            "\n",
            "Electronics.csv.2   100%[===================>] 835.65M  12.4MB/s    in 40s     \n",
            "\n",
            "2022-04-18 04:42:21 (20.8 MB/s) - ‘Electronics.csv.2’ saved [876247561/876247561]\n",
            "\n"
          ]
        }
      ]
    },
    {
      "cell_type": "code",
      "source": [
        "electronics_rating = pd.read_csv('/Users/Pikatsou/Downloads/Electronics_filtered.csv', header= None)"
      ],
      "metadata": {
        "id": "M0jTq7bmOnU3",
        "colab": {
          "base_uri": "https://localhost:8080/",
          "height": 328
        },
        "outputId": "d4e9b249-5052-4a43-d725-443d688ed355"
      },
      "execution_count": null,
      "outputs": [
        {
          "output_type": "error",
          "ename": "FileNotFoundError",
          "evalue": "ignored",
          "traceback": [
            "\u001b[0;31m---------------------------------------------------------------------------\u001b[0m",
            "\u001b[0;31mFileNotFoundError\u001b[0m                         Traceback (most recent call last)",
            "\u001b[0;32m<ipython-input-4-523702888f05>\u001b[0m in \u001b[0;36m<module>\u001b[0;34m()\u001b[0m\n\u001b[0;32m----> 1\u001b[0;31m \u001b[0melectronics_rating\u001b[0m \u001b[0;34m=\u001b[0m \u001b[0mpd\u001b[0m\u001b[0;34m.\u001b[0m\u001b[0mread_csv\u001b[0m\u001b[0;34m(\u001b[0m\u001b[0;34m'/Users/Pikatsou/Downloads/Electronics_filtered.csv'\u001b[0m\u001b[0;34m,\u001b[0m \u001b[0mheader\u001b[0m\u001b[0;34m=\u001b[0m \u001b[0;32mNone\u001b[0m\u001b[0;34m)\u001b[0m\u001b[0;34m\u001b[0m\u001b[0;34m\u001b[0m\u001b[0m\n\u001b[0m",
            "\u001b[0;32m/usr/local/lib/python3.7/dist-packages/pandas/util/_decorators.py\u001b[0m in \u001b[0;36mwrapper\u001b[0;34m(*args, **kwargs)\u001b[0m\n\u001b[1;32m    309\u001b[0m                     \u001b[0mstacklevel\u001b[0m\u001b[0;34m=\u001b[0m\u001b[0mstacklevel\u001b[0m\u001b[0;34m,\u001b[0m\u001b[0;34m\u001b[0m\u001b[0;34m\u001b[0m\u001b[0m\n\u001b[1;32m    310\u001b[0m                 )\n\u001b[0;32m--> 311\u001b[0;31m             \u001b[0;32mreturn\u001b[0m \u001b[0mfunc\u001b[0m\u001b[0;34m(\u001b[0m\u001b[0;34m*\u001b[0m\u001b[0margs\u001b[0m\u001b[0;34m,\u001b[0m \u001b[0;34m**\u001b[0m\u001b[0mkwargs\u001b[0m\u001b[0;34m)\u001b[0m\u001b[0;34m\u001b[0m\u001b[0;34m\u001b[0m\u001b[0m\n\u001b[0m\u001b[1;32m    312\u001b[0m \u001b[0;34m\u001b[0m\u001b[0m\n\u001b[1;32m    313\u001b[0m         \u001b[0;32mreturn\u001b[0m \u001b[0mwrapper\u001b[0m\u001b[0;34m\u001b[0m\u001b[0;34m\u001b[0m\u001b[0m\n",
            "\u001b[0;32m/usr/local/lib/python3.7/dist-packages/pandas/io/parsers/readers.py\u001b[0m in \u001b[0;36mread_csv\u001b[0;34m(filepath_or_buffer, sep, delimiter, header, names, index_col, usecols, squeeze, prefix, mangle_dupe_cols, dtype, engine, converters, true_values, false_values, skipinitialspace, skiprows, skipfooter, nrows, na_values, keep_default_na, na_filter, verbose, skip_blank_lines, parse_dates, infer_datetime_format, keep_date_col, date_parser, dayfirst, cache_dates, iterator, chunksize, compression, thousands, decimal, lineterminator, quotechar, quoting, doublequote, escapechar, comment, encoding, encoding_errors, dialect, error_bad_lines, warn_bad_lines, on_bad_lines, delim_whitespace, low_memory, memory_map, float_precision, storage_options)\u001b[0m\n\u001b[1;32m    584\u001b[0m     \u001b[0mkwds\u001b[0m\u001b[0;34m.\u001b[0m\u001b[0mupdate\u001b[0m\u001b[0;34m(\u001b[0m\u001b[0mkwds_defaults\u001b[0m\u001b[0;34m)\u001b[0m\u001b[0;34m\u001b[0m\u001b[0;34m\u001b[0m\u001b[0m\n\u001b[1;32m    585\u001b[0m \u001b[0;34m\u001b[0m\u001b[0m\n\u001b[0;32m--> 586\u001b[0;31m     \u001b[0;32mreturn\u001b[0m \u001b[0m_read\u001b[0m\u001b[0;34m(\u001b[0m\u001b[0mfilepath_or_buffer\u001b[0m\u001b[0;34m,\u001b[0m \u001b[0mkwds\u001b[0m\u001b[0;34m)\u001b[0m\u001b[0;34m\u001b[0m\u001b[0;34m\u001b[0m\u001b[0m\n\u001b[0m\u001b[1;32m    587\u001b[0m \u001b[0;34m\u001b[0m\u001b[0m\n\u001b[1;32m    588\u001b[0m \u001b[0;34m\u001b[0m\u001b[0m\n",
            "\u001b[0;32m/usr/local/lib/python3.7/dist-packages/pandas/io/parsers/readers.py\u001b[0m in \u001b[0;36m_read\u001b[0;34m(filepath_or_buffer, kwds)\u001b[0m\n\u001b[1;32m    480\u001b[0m \u001b[0;34m\u001b[0m\u001b[0m\n\u001b[1;32m    481\u001b[0m     \u001b[0;31m# Create the parser.\u001b[0m\u001b[0;34m\u001b[0m\u001b[0;34m\u001b[0m\u001b[0;34m\u001b[0m\u001b[0m\n\u001b[0;32m--> 482\u001b[0;31m     \u001b[0mparser\u001b[0m \u001b[0;34m=\u001b[0m \u001b[0mTextFileReader\u001b[0m\u001b[0;34m(\u001b[0m\u001b[0mfilepath_or_buffer\u001b[0m\u001b[0;34m,\u001b[0m \u001b[0;34m**\u001b[0m\u001b[0mkwds\u001b[0m\u001b[0;34m)\u001b[0m\u001b[0;34m\u001b[0m\u001b[0;34m\u001b[0m\u001b[0m\n\u001b[0m\u001b[1;32m    483\u001b[0m \u001b[0;34m\u001b[0m\u001b[0m\n\u001b[1;32m    484\u001b[0m     \u001b[0;32mif\u001b[0m \u001b[0mchunksize\u001b[0m \u001b[0;32mor\u001b[0m \u001b[0miterator\u001b[0m\u001b[0;34m:\u001b[0m\u001b[0;34m\u001b[0m\u001b[0;34m\u001b[0m\u001b[0m\n",
            "\u001b[0;32m/usr/local/lib/python3.7/dist-packages/pandas/io/parsers/readers.py\u001b[0m in \u001b[0;36m__init__\u001b[0;34m(self, f, engine, **kwds)\u001b[0m\n\u001b[1;32m    809\u001b[0m             \u001b[0mself\u001b[0m\u001b[0;34m.\u001b[0m\u001b[0moptions\u001b[0m\u001b[0;34m[\u001b[0m\u001b[0;34m\"has_index_names\"\u001b[0m\u001b[0;34m]\u001b[0m \u001b[0;34m=\u001b[0m \u001b[0mkwds\u001b[0m\u001b[0;34m[\u001b[0m\u001b[0;34m\"has_index_names\"\u001b[0m\u001b[0;34m]\u001b[0m\u001b[0;34m\u001b[0m\u001b[0;34m\u001b[0m\u001b[0m\n\u001b[1;32m    810\u001b[0m \u001b[0;34m\u001b[0m\u001b[0m\n\u001b[0;32m--> 811\u001b[0;31m         \u001b[0mself\u001b[0m\u001b[0;34m.\u001b[0m\u001b[0m_engine\u001b[0m \u001b[0;34m=\u001b[0m \u001b[0mself\u001b[0m\u001b[0;34m.\u001b[0m\u001b[0m_make_engine\u001b[0m\u001b[0;34m(\u001b[0m\u001b[0mself\u001b[0m\u001b[0;34m.\u001b[0m\u001b[0mengine\u001b[0m\u001b[0;34m)\u001b[0m\u001b[0;34m\u001b[0m\u001b[0;34m\u001b[0m\u001b[0m\n\u001b[0m\u001b[1;32m    812\u001b[0m \u001b[0;34m\u001b[0m\u001b[0m\n\u001b[1;32m    813\u001b[0m     \u001b[0;32mdef\u001b[0m \u001b[0mclose\u001b[0m\u001b[0;34m(\u001b[0m\u001b[0mself\u001b[0m\u001b[0;34m)\u001b[0m\u001b[0;34m:\u001b[0m\u001b[0;34m\u001b[0m\u001b[0;34m\u001b[0m\u001b[0m\n",
            "\u001b[0;32m/usr/local/lib/python3.7/dist-packages/pandas/io/parsers/readers.py\u001b[0m in \u001b[0;36m_make_engine\u001b[0;34m(self, engine)\u001b[0m\n\u001b[1;32m   1038\u001b[0m             )\n\u001b[1;32m   1039\u001b[0m         \u001b[0;31m# error: Too many arguments for \"ParserBase\"\u001b[0m\u001b[0;34m\u001b[0m\u001b[0;34m\u001b[0m\u001b[0;34m\u001b[0m\u001b[0m\n\u001b[0;32m-> 1040\u001b[0;31m         \u001b[0;32mreturn\u001b[0m \u001b[0mmapping\u001b[0m\u001b[0;34m[\u001b[0m\u001b[0mengine\u001b[0m\u001b[0;34m]\u001b[0m\u001b[0;34m(\u001b[0m\u001b[0mself\u001b[0m\u001b[0;34m.\u001b[0m\u001b[0mf\u001b[0m\u001b[0;34m,\u001b[0m \u001b[0;34m**\u001b[0m\u001b[0mself\u001b[0m\u001b[0;34m.\u001b[0m\u001b[0moptions\u001b[0m\u001b[0;34m)\u001b[0m  \u001b[0;31m# type: ignore[call-arg]\u001b[0m\u001b[0;34m\u001b[0m\u001b[0;34m\u001b[0m\u001b[0m\n\u001b[0m\u001b[1;32m   1041\u001b[0m \u001b[0;34m\u001b[0m\u001b[0m\n\u001b[1;32m   1042\u001b[0m     \u001b[0;32mdef\u001b[0m \u001b[0m_failover_to_python\u001b[0m\u001b[0;34m(\u001b[0m\u001b[0mself\u001b[0m\u001b[0;34m)\u001b[0m\u001b[0;34m:\u001b[0m\u001b[0;34m\u001b[0m\u001b[0;34m\u001b[0m\u001b[0m\n",
            "\u001b[0;32m/usr/local/lib/python3.7/dist-packages/pandas/io/parsers/c_parser_wrapper.py\u001b[0m in \u001b[0;36m__init__\u001b[0;34m(self, src, **kwds)\u001b[0m\n\u001b[1;32m     49\u001b[0m \u001b[0;34m\u001b[0m\u001b[0m\n\u001b[1;32m     50\u001b[0m         \u001b[0;31m# open handles\u001b[0m\u001b[0;34m\u001b[0m\u001b[0;34m\u001b[0m\u001b[0;34m\u001b[0m\u001b[0m\n\u001b[0;32m---> 51\u001b[0;31m         \u001b[0mself\u001b[0m\u001b[0;34m.\u001b[0m\u001b[0m_open_handles\u001b[0m\u001b[0;34m(\u001b[0m\u001b[0msrc\u001b[0m\u001b[0;34m,\u001b[0m \u001b[0mkwds\u001b[0m\u001b[0;34m)\u001b[0m\u001b[0;34m\u001b[0m\u001b[0;34m\u001b[0m\u001b[0m\n\u001b[0m\u001b[1;32m     52\u001b[0m         \u001b[0;32massert\u001b[0m \u001b[0mself\u001b[0m\u001b[0;34m.\u001b[0m\u001b[0mhandles\u001b[0m \u001b[0;32mis\u001b[0m \u001b[0;32mnot\u001b[0m \u001b[0;32mNone\u001b[0m\u001b[0;34m\u001b[0m\u001b[0;34m\u001b[0m\u001b[0m\n\u001b[1;32m     53\u001b[0m \u001b[0;34m\u001b[0m\u001b[0m\n",
            "\u001b[0;32m/usr/local/lib/python3.7/dist-packages/pandas/io/parsers/base_parser.py\u001b[0m in \u001b[0;36m_open_handles\u001b[0;34m(self, src, kwds)\u001b[0m\n\u001b[1;32m    227\u001b[0m             \u001b[0mmemory_map\u001b[0m\u001b[0;34m=\u001b[0m\u001b[0mkwds\u001b[0m\u001b[0;34m.\u001b[0m\u001b[0mget\u001b[0m\u001b[0;34m(\u001b[0m\u001b[0;34m\"memory_map\"\u001b[0m\u001b[0;34m,\u001b[0m \u001b[0;32mFalse\u001b[0m\u001b[0;34m)\u001b[0m\u001b[0;34m,\u001b[0m\u001b[0;34m\u001b[0m\u001b[0;34m\u001b[0m\u001b[0m\n\u001b[1;32m    228\u001b[0m             \u001b[0mstorage_options\u001b[0m\u001b[0;34m=\u001b[0m\u001b[0mkwds\u001b[0m\u001b[0;34m.\u001b[0m\u001b[0mget\u001b[0m\u001b[0;34m(\u001b[0m\u001b[0;34m\"storage_options\"\u001b[0m\u001b[0;34m,\u001b[0m \u001b[0;32mNone\u001b[0m\u001b[0;34m)\u001b[0m\u001b[0;34m,\u001b[0m\u001b[0;34m\u001b[0m\u001b[0;34m\u001b[0m\u001b[0m\n\u001b[0;32m--> 229\u001b[0;31m             \u001b[0merrors\u001b[0m\u001b[0;34m=\u001b[0m\u001b[0mkwds\u001b[0m\u001b[0;34m.\u001b[0m\u001b[0mget\u001b[0m\u001b[0;34m(\u001b[0m\u001b[0;34m\"encoding_errors\"\u001b[0m\u001b[0;34m,\u001b[0m \u001b[0;34m\"strict\"\u001b[0m\u001b[0;34m)\u001b[0m\u001b[0;34m,\u001b[0m\u001b[0;34m\u001b[0m\u001b[0;34m\u001b[0m\u001b[0m\n\u001b[0m\u001b[1;32m    230\u001b[0m         )\n\u001b[1;32m    231\u001b[0m \u001b[0;34m\u001b[0m\u001b[0m\n",
            "\u001b[0;32m/usr/local/lib/python3.7/dist-packages/pandas/io/common.py\u001b[0m in \u001b[0;36mget_handle\u001b[0;34m(path_or_buf, mode, encoding, compression, memory_map, is_text, errors, storage_options)\u001b[0m\n\u001b[1;32m    705\u001b[0m                 \u001b[0mencoding\u001b[0m\u001b[0;34m=\u001b[0m\u001b[0mioargs\u001b[0m\u001b[0;34m.\u001b[0m\u001b[0mencoding\u001b[0m\u001b[0;34m,\u001b[0m\u001b[0;34m\u001b[0m\u001b[0;34m\u001b[0m\u001b[0m\n\u001b[1;32m    706\u001b[0m                 \u001b[0merrors\u001b[0m\u001b[0;34m=\u001b[0m\u001b[0merrors\u001b[0m\u001b[0;34m,\u001b[0m\u001b[0;34m\u001b[0m\u001b[0;34m\u001b[0m\u001b[0m\n\u001b[0;32m--> 707\u001b[0;31m                 \u001b[0mnewline\u001b[0m\u001b[0;34m=\u001b[0m\u001b[0;34m\"\"\u001b[0m\u001b[0;34m,\u001b[0m\u001b[0;34m\u001b[0m\u001b[0;34m\u001b[0m\u001b[0m\n\u001b[0m\u001b[1;32m    708\u001b[0m             )\n\u001b[1;32m    709\u001b[0m         \u001b[0;32melse\u001b[0m\u001b[0;34m:\u001b[0m\u001b[0;34m\u001b[0m\u001b[0;34m\u001b[0m\u001b[0m\n",
            "\u001b[0;31mFileNotFoundError\u001b[0m: [Errno 2] No such file or directory: '/Users/Pikatsou/Downloads/Electronics_filtered.csv'"
          ]
        }
      ]
    },
    {
      "cell_type": "code",
      "source": [
        "electronics_rating.columns = ['item','user','rating','timestamp']\n",
        "electronics_rating.head()"
      ],
      "metadata": {
        "colab": {
          "base_uri": "https://localhost:8080/",
          "height": 204
        },
        "id": "j4MjG08nRDkA",
        "outputId": "1584c8af-02db-4f3a-8172-6870a79b7e00"
      },
      "execution_count": null,
      "outputs": [
        {
          "output_type": "execute_result",
          "data": {
            "text/plain": [
              "         item            user  rating   timestamp\n",
              "0  0060009810  A1N070NS9CJQ2I     5.0  1026864000\n",
              "1  0060009810  A3P0KRKOBQK1KN     5.0  1025913600\n",
              "2  0060009810  A192HO2ICJ75VU     5.0  1025654400\n",
              "3  0060009810  A2T278FKFL3BLT     4.0  1025395200\n",
              "4  0060009810  A2ZUXVTW8RXBXW     5.0  1025222400"
            ],
            "text/html": [
              "\n",
              "  <div id=\"df-c55cd6fe-5ef5-48ff-bba1-b19e8a5db711\">\n",
              "    <div class=\"colab-df-container\">\n",
              "      <div>\n",
              "<style scoped>\n",
              "    .dataframe tbody tr th:only-of-type {\n",
              "        vertical-align: middle;\n",
              "    }\n",
              "\n",
              "    .dataframe tbody tr th {\n",
              "        vertical-align: top;\n",
              "    }\n",
              "\n",
              "    .dataframe thead th {\n",
              "        text-align: right;\n",
              "    }\n",
              "</style>\n",
              "<table border=\"1\" class=\"dataframe\">\n",
              "  <thead>\n",
              "    <tr style=\"text-align: right;\">\n",
              "      <th></th>\n",
              "      <th>item</th>\n",
              "      <th>user</th>\n",
              "      <th>rating</th>\n",
              "      <th>timestamp</th>\n",
              "    </tr>\n",
              "  </thead>\n",
              "  <tbody>\n",
              "    <tr>\n",
              "      <th>0</th>\n",
              "      <td>0060009810</td>\n",
              "      <td>A1N070NS9CJQ2I</td>\n",
              "      <td>5.0</td>\n",
              "      <td>1026864000</td>\n",
              "    </tr>\n",
              "    <tr>\n",
              "      <th>1</th>\n",
              "      <td>0060009810</td>\n",
              "      <td>A3P0KRKOBQK1KN</td>\n",
              "      <td>5.0</td>\n",
              "      <td>1025913600</td>\n",
              "    </tr>\n",
              "    <tr>\n",
              "      <th>2</th>\n",
              "      <td>0060009810</td>\n",
              "      <td>A192HO2ICJ75VU</td>\n",
              "      <td>5.0</td>\n",
              "      <td>1025654400</td>\n",
              "    </tr>\n",
              "    <tr>\n",
              "      <th>3</th>\n",
              "      <td>0060009810</td>\n",
              "      <td>A2T278FKFL3BLT</td>\n",
              "      <td>4.0</td>\n",
              "      <td>1025395200</td>\n",
              "    </tr>\n",
              "    <tr>\n",
              "      <th>4</th>\n",
              "      <td>0060009810</td>\n",
              "      <td>A2ZUXVTW8RXBXW</td>\n",
              "      <td>5.0</td>\n",
              "      <td>1025222400</td>\n",
              "    </tr>\n",
              "  </tbody>\n",
              "</table>\n",
              "</div>\n",
              "      <button class=\"colab-df-convert\" onclick=\"convertToInteractive('df-c55cd6fe-5ef5-48ff-bba1-b19e8a5db711')\"\n",
              "              title=\"Convert this dataframe to an interactive table.\"\n",
              "              style=\"display:none;\">\n",
              "        \n",
              "  <svg xmlns=\"http://www.w3.org/2000/svg\" height=\"24px\"viewBox=\"0 0 24 24\"\n",
              "       width=\"24px\">\n",
              "    <path d=\"M0 0h24v24H0V0z\" fill=\"none\"/>\n",
              "    <path d=\"M18.56 5.44l.94 2.06.94-2.06 2.06-.94-2.06-.94-.94-2.06-.94 2.06-2.06.94zm-11 1L8.5 8.5l.94-2.06 2.06-.94-2.06-.94L8.5 2.5l-.94 2.06-2.06.94zm10 10l.94 2.06.94-2.06 2.06-.94-2.06-.94-.94-2.06-.94 2.06-2.06.94z\"/><path d=\"M17.41 7.96l-1.37-1.37c-.4-.4-.92-.59-1.43-.59-.52 0-1.04.2-1.43.59L10.3 9.45l-7.72 7.72c-.78.78-.78 2.05 0 2.83L4 21.41c.39.39.9.59 1.41.59.51 0 1.02-.2 1.41-.59l7.78-7.78 2.81-2.81c.8-.78.8-2.07 0-2.86zM5.41 20L4 18.59l7.72-7.72 1.47 1.35L5.41 20z\"/>\n",
              "  </svg>\n",
              "      </button>\n",
              "      \n",
              "  <style>\n",
              "    .colab-df-container {\n",
              "      display:flex;\n",
              "      flex-wrap:wrap;\n",
              "      gap: 12px;\n",
              "    }\n",
              "\n",
              "    .colab-df-convert {\n",
              "      background-color: #E8F0FE;\n",
              "      border: none;\n",
              "      border-radius: 50%;\n",
              "      cursor: pointer;\n",
              "      display: none;\n",
              "      fill: #1967D2;\n",
              "      height: 32px;\n",
              "      padding: 0 0 0 0;\n",
              "      width: 32px;\n",
              "    }\n",
              "\n",
              "    .colab-df-convert:hover {\n",
              "      background-color: #E2EBFA;\n",
              "      box-shadow: 0px 1px 2px rgba(60, 64, 67, 0.3), 0px 1px 3px 1px rgba(60, 64, 67, 0.15);\n",
              "      fill: #174EA6;\n",
              "    }\n",
              "\n",
              "    [theme=dark] .colab-df-convert {\n",
              "      background-color: #3B4455;\n",
              "      fill: #D2E3FC;\n",
              "    }\n",
              "\n",
              "    [theme=dark] .colab-df-convert:hover {\n",
              "      background-color: #434B5C;\n",
              "      box-shadow: 0px 1px 3px 1px rgba(0, 0, 0, 0.15);\n",
              "      filter: drop-shadow(0px 1px 2px rgba(0, 0, 0, 0.3));\n",
              "      fill: #FFFFFF;\n",
              "    }\n",
              "  </style>\n",
              "\n",
              "      <script>\n",
              "        const buttonEl =\n",
              "          document.querySelector('#df-c55cd6fe-5ef5-48ff-bba1-b19e8a5db711 button.colab-df-convert');\n",
              "        buttonEl.style.display =\n",
              "          google.colab.kernel.accessAllowed ? 'block' : 'none';\n",
              "\n",
              "        async function convertToInteractive(key) {\n",
              "          const element = document.querySelector('#df-c55cd6fe-5ef5-48ff-bba1-b19e8a5db711');\n",
              "          const dataTable =\n",
              "            await google.colab.kernel.invokeFunction('convertToInteractive',\n",
              "                                                     [key], {});\n",
              "          if (!dataTable) return;\n",
              "\n",
              "          const docLinkHtml = 'Like what you see? Visit the ' +\n",
              "            '<a target=\"_blank\" href=https://colab.research.google.com/notebooks/data_table.ipynb>data table notebook</a>'\n",
              "            + ' to learn more about interactive tables.';\n",
              "          element.innerHTML = '';\n",
              "          dataTable['output_type'] = 'display_data';\n",
              "          await google.colab.output.renderOutput(dataTable, element);\n",
              "          const docLink = document.createElement('div');\n",
              "          docLink.innerHTML = docLinkHtml;\n",
              "          element.appendChild(docLink);\n",
              "        }\n",
              "      </script>\n",
              "    </div>\n",
              "  </div>\n",
              "  "
            ]
          },
          "metadata": {},
          "execution_count": 7
        }
      ]
    },
    {
      "cell_type": "code",
      "source": [
        "# Jennifer - Please upload the dataset to the shared drive in order to ingest data\n",
        "electronics_rating = pd.read_csv('Electronics_filtered.csv')\n",
        "electronics_rating.head()"
      ],
      "metadata": {
        "colab": {
          "base_uri": "https://localhost:8080/",
          "height": 200
        },
        "id": "8rI75SkcSBwa",
        "outputId": "8f46b2b7-25c9-4f0f-cdbe-4c0ebcd7de12"
      },
      "execution_count": null,
      "outputs": [
        {
          "output_type": "error",
          "ename": "NameError",
          "evalue": "ignored",
          "traceback": [
            "\u001b[0;31m---------------------------------------------------------------------------\u001b[0m",
            "\u001b[0;31mNameError\u001b[0m                                 Traceback (most recent call last)",
            "\u001b[0;32m<ipython-input-1-6379964ac34c>\u001b[0m in \u001b[0;36m<module>\u001b[0;34m()\u001b[0m\n\u001b[1;32m      1\u001b[0m \u001b[0;31m# Jennifer - Please upload the dataset to the shared drive in order to ingest data\u001b[0m\u001b[0;34m\u001b[0m\u001b[0;34m\u001b[0m\u001b[0;34m\u001b[0m\u001b[0m\n\u001b[0;32m----> 2\u001b[0;31m \u001b[0melectronics_rating\u001b[0m \u001b[0;34m=\u001b[0m \u001b[0mpd\u001b[0m\u001b[0;34m.\u001b[0m\u001b[0mread_csv\u001b[0m\u001b[0;34m(\u001b[0m\u001b[0;34m'Electronics_filtered.csv'\u001b[0m\u001b[0;34m)\u001b[0m\u001b[0;34m\u001b[0m\u001b[0;34m\u001b[0m\u001b[0m\n\u001b[0m\u001b[1;32m      3\u001b[0m \u001b[0melectronics_rating\u001b[0m\u001b[0;34m.\u001b[0m\u001b[0mhead\u001b[0m\u001b[0;34m(\u001b[0m\u001b[0;34m)\u001b[0m\u001b[0;34m\u001b[0m\u001b[0;34m\u001b[0m\u001b[0m\n",
            "\u001b[0;31mNameError\u001b[0m: name 'pd' is not defined"
          ]
        }
      ]
    },
    {
      "cell_type": "markdown",
      "source": [
        "# Data formatting and exploration"
      ],
      "metadata": {
        "id": "bLFJn9qoWBi8"
      }
    },
    {
      "cell_type": "code",
      "source": [
        "electronics_rating['timestamp'] = pd.to_datetime(electronics_rating['timestamp'],unit='s')\n"
      ],
      "metadata": {
        "id": "H7ZR0GfOZsU7"
      },
      "execution_count": null,
      "outputs": []
    },
    {
      "cell_type": "code",
      "source": [
        "electronics_rating.info()"
      ],
      "metadata": {
        "id": "nPL8LG5LuR1q",
        "outputId": "d318e775-2e74-4786-9320-1abc67f4ed29",
        "colab": {
          "base_uri": "https://localhost:8080/"
        }
      },
      "execution_count": null,
      "outputs": [
        {
          "output_type": "stream",
          "name": "stdout",
          "text": [
            "<class 'pandas.core.frame.DataFrame'>\n",
            "RangeIndex: 20994353 entries, 0 to 20994352\n",
            "Data columns (total 4 columns):\n",
            " #   Column     Dtype         \n",
            "---  ------     -----         \n",
            " 0   item       object        \n",
            " 1   user       object        \n",
            " 2   rating     float64       \n",
            " 3   timestamp  datetime64[ns]\n",
            "dtypes: datetime64[ns](1), float64(1), object(2)\n",
            "memory usage: 640.7+ MB\n"
          ]
        }
      ]
    },
    {
      "cell_type": "code",
      "source": [
        "electronics_rating.timestamp.describe()"
      ],
      "metadata": {
        "colab": {
          "base_uri": "https://localhost:8080/"
        },
        "id": "C7RTaP6ap5zy",
        "outputId": "1901ef12-c859-49b0-f7d0-2a52b4dcb83f"
      },
      "execution_count": null,
      "outputs": [
        {
          "output_type": "stream",
          "name": "stderr",
          "text": [
            "/usr/local/lib/python3.7/dist-packages/ipykernel_launcher.py:1: FutureWarning: Treating datetime data as categorical rather than numeric in `.describe` is deprecated and will be removed in a future version of pandas. Specify `datetime_is_numeric=True` to silence this warning and adopt the future behavior now.\n",
            "  \"\"\"Entry point for launching an IPython kernel.\n"
          ]
        },
        {
          "output_type": "execute_result",
          "data": {
            "text/plain": [
              "count                20994353\n",
              "unique                   7015\n",
              "top       2016-03-01 00:00:00\n",
              "freq                    25244\n",
              "first     1997-12-04 00:00:00\n",
              "last      2018-10-05 00:00:00\n",
              "Name: timestamp, dtype: object"
            ]
          },
          "metadata": {},
          "execution_count": 10
        }
      ]
    },
    {
      "cell_type": "code",
      "source": [
        "electronics_rating.item.describe()"
      ],
      "metadata": {
        "colab": {
          "base_uri": "https://localhost:8080/"
        },
        "id": "K9W88zjHq9zX",
        "outputId": "d541d8f1-c4f6-4396-dcd8-0a54dc0d4868"
      },
      "execution_count": null,
      "outputs": [
        {
          "output_type": "execute_result",
          "data": {
            "text/plain": [
              "count       20994353\n",
              "unique        756489\n",
              "top       B010OYASRG\n",
              "freq           28539\n",
              "Name: item, dtype: object"
            ]
          },
          "metadata": {},
          "execution_count": 10
        }
      ]
    },
    {
      "cell_type": "code",
      "source": [
        "electronics_rating.user.describe()"
      ],
      "metadata": {
        "colab": {
          "base_uri": "https://localhost:8080/"
        },
        "id": "IHmbQZIDrmyk",
        "outputId": "775f3980-de4c-47af-abf9-523480cd5243"
      },
      "execution_count": null,
      "outputs": [
        {
          "output_type": "execute_result",
          "data": {
            "text/plain": [
              "count          20994353\n",
              "unique          9838676\n",
              "top       A680RUE1FDO8B\n",
              "freq                633\n",
              "Name: user, dtype: object"
            ]
          },
          "metadata": {},
          "execution_count": 11
        }
      ]
    },
    {
      "cell_type": "code",
      "source": [
        "# Find out the rating distribution\n",
        "electronics_rating.groupby('rating').size()"
      ],
      "metadata": {
        "id": "bnNd6nqMbM3q"
      },
      "execution_count": null,
      "outputs": []
    },
    {
      "cell_type": "code",
      "source": [
        "electronics_rating.hist(column=\"rating\",grid=False,bins=5)"
      ],
      "metadata": {
        "id": "5yilJuVsSZDb"
      },
      "execution_count": null,
      "outputs": []
    },
    {
      "cell_type": "markdown",
      "source": [
        "# Create user_id and item_id columns - Ming Lu"
      ],
      "metadata": {
        "id": "ndXMI3HQSeog"
      }
    },
    {
      "cell_type": "code",
      "source": [
        "# Create indices df for user and item lists\n",
        "user_list = pd.DataFrame(electronics_rating.user.unique(),columns=[\"user\"]).reset_index().rename(columns={\"index\":\"user_index\"})\n",
        "item_list = pd.DataFrame(electronics_rating.item.unique(),columns=[\"item\"]).reset_index().rename(columns={\"index\":\"item_index\"})"
      ],
      "metadata": {
        "id": "E54XNzHcSeDh"
      },
      "execution_count": null,
      "outputs": []
    },
    {
      "cell_type": "code",
      "source": [
        "# Add user_id and item_id columns to the df\n",
        "electronics_rating = electronics_rating.merge(user_list,on='user')\n",
        "electronics_rating = electronics_rating.merge(item_list,on='item')"
      ],
      "metadata": {
        "id": "y7xqZYwLSqRx"
      },
      "execution_count": null,
      "outputs": []
    },
    {
      "cell_type": "code",
      "source": [
        "electronics_rating.head()"
      ],
      "metadata": {
        "id": "y5TwNzUnSrXL"
      },
      "execution_count": null,
      "outputs": []
    },
    {
      "cell_type": "markdown",
      "source": [
        "# Split train and test data - Ming Lu"
      ],
      "metadata": {
        "id": "7ijLP4bHSw45"
      }
    },
    {
      "cell_type": "code",
      "source": [
        "from sklearn.model_selection import train_test_split\n",
        "\n",
        "train, test = train_test_split(electronics_rating, test_size=0.2, random_state=42, stratify=electronics_rating.user)"
      ],
      "metadata": {
        "id": "cHxjuHtzS3_p"
      },
      "execution_count": null,
      "outputs": []
    },
    {
      "cell_type": "code",
      "source": [
        "# Validate both datasets contains the same users\n",
        "train.user.unique().shape[0],test.user.unique().shape[0]"
      ],
      "metadata": {
        "id": "zNOgGAjiS4DY"
      },
      "execution_count": null,
      "outputs": []
    },
    {
      "cell_type": "markdown",
      "source": [
        "## 2. Build similarity function to calculate distance between users - *Jennifer Tsou*"
      ],
      "metadata": {
        "id": "liinbHBjlqi-"
      }
    },
    {
      "cell_type": "code",
      "source": [
        "# KNN model with cosine\n",
        "from sklearn.neighbors import NearestNeighbors\n",
        "n_users = electronics_rating.user.unique().shape[0]\n",
        "n_items = electronics_rating.item.unique().shape[0]"
      ],
      "metadata": {
        "id": "5ttvLwISiKNS",
        "colab": {
          "base_uri": "https://localhost:8080/",
          "height": 217
        },
        "outputId": "9eabf22b-40f1-4df4-a99e-40a0fbc232e1"
      },
      "execution_count": null,
      "outputs": [
        {
          "output_type": "error",
          "ename": "NameError",
          "evalue": "ignored",
          "traceback": [
            "\u001b[0;31m---------------------------------------------------------------------------\u001b[0m",
            "\u001b[0;31mNameError\u001b[0m                                 Traceback (most recent call last)",
            "\u001b[0;32m<ipython-input-2-8930c7d07b8e>\u001b[0m in \u001b[0;36m<module>\u001b[0;34m()\u001b[0m\n\u001b[1;32m      1\u001b[0m \u001b[0;31m# KNN model with cosine\u001b[0m\u001b[0;34m\u001b[0m\u001b[0;34m\u001b[0m\u001b[0;34m\u001b[0m\u001b[0m\n\u001b[1;32m      2\u001b[0m \u001b[0;32mfrom\u001b[0m \u001b[0msklearn\u001b[0m\u001b[0;34m.\u001b[0m\u001b[0mneighbors\u001b[0m \u001b[0;32mimport\u001b[0m \u001b[0mNearestNeighbors\u001b[0m\u001b[0;34m\u001b[0m\u001b[0;34m\u001b[0m\u001b[0m\n\u001b[0;32m----> 3\u001b[0;31m \u001b[0mn_users\u001b[0m \u001b[0;34m=\u001b[0m \u001b[0melectronics_rating\u001b[0m\u001b[0;34m.\u001b[0m\u001b[0muser\u001b[0m\u001b[0;34m.\u001b[0m\u001b[0munique\u001b[0m\u001b[0;34m(\u001b[0m\u001b[0;34m)\u001b[0m\u001b[0;34m.\u001b[0m\u001b[0mshape\u001b[0m\u001b[0;34m[\u001b[0m\u001b[0;36m0\u001b[0m\u001b[0;34m]\u001b[0m\u001b[0;34m\u001b[0m\u001b[0;34m\u001b[0m\u001b[0m\n\u001b[0m\u001b[1;32m      4\u001b[0m \u001b[0mn_items\u001b[0m \u001b[0;34m=\u001b[0m \u001b[0melectronics_rating\u001b[0m\u001b[0;34m.\u001b[0m\u001b[0mitem\u001b[0m\u001b[0;34m.\u001b[0m\u001b[0munique\u001b[0m\u001b[0;34m(\u001b[0m\u001b[0;34m)\u001b[0m\u001b[0;34m.\u001b[0m\u001b[0mshape\u001b[0m\u001b[0;34m[\u001b[0m\u001b[0;36m0\u001b[0m\u001b[0;34m]\u001b[0m\u001b[0;34m\u001b[0m\u001b[0;34m\u001b[0m\u001b[0m\n",
            "\u001b[0;31mNameError\u001b[0m: name 'electronics_rating' is not defined"
          ]
        }
      ]
    },
    {
      "cell_type": "code",
      "source": [
        "# create user-item matrix for training dataset\n",
        "# Ming - I updated the for loop to generate the matrix using the user_id and item_id\n",
        "data_matrix_train = np.zeros((n_users, n_items))\n",
        "for line in train.itertuples():\n",
        "    data_matrix_train[line[5], line[6]] = line[3]"
      ],
      "metadata": {
        "id": "S2UtYCejTEiK"
      },
      "execution_count": null,
      "outputs": []
    },
    {
      "cell_type": "code",
      "source": [
        "# create user-item matrix for testing dataset\n",
        "data_matrix_test = np.zeros((n_users, n_items))\n",
        "for line in test.itertuples():\n",
        "    data_matrix_test[line[5], line[6]] = line[3]"
      ],
      "metadata": {
        "id": "26yMBa7xTHNk"
      },
      "execution_count": null,
      "outputs": []
    },
    {
      "cell_type": "code",
      "source": [
        "# calculate similarity\n",
        "from sklearn.metrics.pairwise import pairwise_distances \n",
        "user_similarity = pairwise_distances(data_matrix_test, metric='cosine')\n",
        "item_similarity = pairwise_distances(data_matrix_test.T, metric='cosine')"
      ],
      "metadata": {
        "id": "XfEvO6EITL-R"
      },
      "execution_count": null,
      "outputs": []
    },
    {
      "cell_type": "markdown",
      "source": [
        "## 3. (optional) build function to make predictions based on similarity - *Jennifer Tsou*"
      ],
      "metadata": {
        "id": "GOpt9D5wmZ1W"
      }
    },
    {
      "cell_type": "code",
      "source": [
        "# build function to make predictions based on similarity\n",
        "def predict(ratings, similarity, type='user'):\n",
        "    if type == 'user':\n",
        "        mean_user_rating = ratings.mean(axis=1)\n",
        "        #We use np.newaxis so that mean_user_rating has same format as ratings\n",
        "        ratings_diff = (ratings - mean_user_rating[:, np.newaxis])\n",
        "        pred = mean_user_rating[:, np.newaxis] + similarity.dot(ratings_diff) / np.array([np.abs(similarity).sum(axis=1)]).T\n",
        "    elif type == 'item':\n",
        "        pred = ratings.dot(similarity) / np.array([np.abs(similarity).sum(axis=1)])\n",
        "    return pred\n",
        "# make prediction\n",
        "user_prediction = predict(data_matrix_test, user_similarity, type='user')\n",
        "item_prediction = predict(data_matrix_test, item_similarity, type='item')"
      ],
      "metadata": {
        "id": "lpO--fDVg5wz",
        "colab": {
          "base_uri": "https://localhost:8080/",
          "height": 215
        },
        "outputId": "a884cbc4-0919-4902-ab1f-03475b7eddd0"
      },
      "execution_count": null,
      "outputs": [
        {
          "output_type": "error",
          "ename": "NameError",
          "evalue": "ignored",
          "traceback": [
            "\u001b[0;31m---------------------------------------------------------------------------\u001b[0m",
            "\u001b[0;31mNameError\u001b[0m                                 Traceback (most recent call last)",
            "\u001b[0;32m<ipython-input-1-227d2f2bb179>\u001b[0m in \u001b[0;36m<module>\u001b[0;34m()\u001b[0m\n\u001b[1;32m     10\u001b[0m     \u001b[0;32mreturn\u001b[0m \u001b[0mpred\u001b[0m\u001b[0;34m\u001b[0m\u001b[0;34m\u001b[0m\u001b[0m\n\u001b[1;32m     11\u001b[0m \u001b[0;31m# make prediction\u001b[0m\u001b[0;34m\u001b[0m\u001b[0;34m\u001b[0m\u001b[0;34m\u001b[0m\u001b[0m\n\u001b[0;32m---> 12\u001b[0;31m \u001b[0muser_prediction\u001b[0m \u001b[0;34m=\u001b[0m \u001b[0mpredict\u001b[0m\u001b[0;34m(\u001b[0m\u001b[0mdata_matrix\u001b[0m\u001b[0;34m,\u001b[0m \u001b[0muser_similarity\u001b[0m\u001b[0;34m,\u001b[0m \u001b[0mtype\u001b[0m\u001b[0;34m=\u001b[0m\u001b[0;34m'user'\u001b[0m\u001b[0;34m)\u001b[0m\u001b[0;34m\u001b[0m\u001b[0;34m\u001b[0m\u001b[0m\n\u001b[0m\u001b[1;32m     13\u001b[0m \u001b[0mitem_prediction\u001b[0m \u001b[0;34m=\u001b[0m \u001b[0mpredict\u001b[0m\u001b[0;34m(\u001b[0m\u001b[0mdata_matrix\u001b[0m\u001b[0;34m,\u001b[0m \u001b[0mitem_similarity\u001b[0m\u001b[0;34m,\u001b[0m \u001b[0mtype\u001b[0m\u001b[0;34m=\u001b[0m\u001b[0;34m'item'\u001b[0m\u001b[0;34m)\u001b[0m\u001b[0;34m\u001b[0m\u001b[0;34m\u001b[0m\u001b[0m\n",
            "\u001b[0;31mNameError\u001b[0m: name 'data_matrix' is not defined"
          ]
        }
      ]
    },
    {
      "cell_type": "markdown",
      "source": [
        "## 4. Build utility functions for training the models - MSE, SGD, etc. - *Ming Lu*"
      ],
      "metadata": {
        "id": "gZiNS0Rhm05Y"
      }
    },
    {
      "cell_type": "code",
      "source": [
        "# Full user rating-item matrix\n",
        "def full_matrix(b,user_bias,item_bias,P,Q):\n",
        "    return b + user_bias[:,np.newaxis] + item_bias[np.newaxis:,] + P.dot(Q.T)"
      ],
      "metadata": {
        "id": "WOJ_I-jUTqDq"
      },
      "execution_count": null,
      "outputs": []
    },
    {
      "cell_type": "code",
      "source": [
        "# Ratings for user i and item j\n",
        "def get_rating(b,user_bias,item_bias,P,Q,i,j):\n",
        "    prediction = b + user_bias[i] + item_bias[j] + P[i, :].dot(Q[j, :].T)\n",
        "    return prediction"
      ],
      "metadata": {
        "id": "hMtlmbXYTrUL"
      },
      "execution_count": null,
      "outputs": []
    },
    {
      "cell_type": "code",
      "source": [
        "# Computing total mean squared error\n",
        "def mse(data_matrix,b,user_bias,item_bias,P,Q):\n",
        "    xs, ys = data_matrix.nonzero()\n",
        "    predicted = full_matrix(b,user_bias,item_bias,P,Q)\n",
        "    error = 0\n",
        "    for x, y in zip(xs, ys):\n",
        "        error += pow(data_matrix[x, y] - predicted[x, y], 2)\n",
        "    return np.sqrt(error)"
      ],
      "metadata": {
        "id": "fK6tm5hUTslh"
      },
      "execution_count": null,
      "outputs": []
    },
    {
      "cell_type": "code",
      "source": [
        "# Stochastic gradient descent to get optimized P and Q matrix\n",
        "def sgd(b,user_bias,item_bias,P,Q,samples,alpha,beta):\n",
        "    # alpha – Learning rate for stochastic gradient descent\n",
        "    # beta – Regularization parameter for bias\n",
        "    \n",
        "    for i, j, r in samples:\n",
        "        prediction = get_rating(b,user_bias,item_bias,P,Q,i,j)\n",
        "        e = (r - prediction)\n",
        "\n",
        "        # Update the bias terms and P & Q matrices\n",
        "        user_bias[i] += alpha * (e - beta * user_bias[i])\n",
        "        item_bias[j] += alpha * (e - beta * item_bias[j])\n",
        "\n",
        "        P[i, :] += alpha * (e * Q[j, :] - beta * P[i,:])\n",
        "        Q[j, :] += alpha * (e * P[i, :] - beta * Q[j,:])\n",
        "    return user_bias, item_bias, P, Q"
      ],
      "metadata": {
        "id": "dsC99FraTtzZ"
      },
      "execution_count": null,
      "outputs": []
    },
    {
      "cell_type": "markdown",
      "source": [
        "## 5. Build training function - *Jonhua Qin*"
      ],
      "metadata": {
        "id": "7KNkZk34psG_"
      }
    },
    {
      "cell_type": "code",
      "source": [
        "def train_model(data_matrix, K, alpha, beta, iterations=100):\n",
        "    # data_matrix – The user-movie rating matrix \n",
        "    # K – Number of latent features\n",
        "    # iterations – Number of iterations to perform stochastic gradient descent\n",
        "    \n",
        "    # Define number of user and items\n",
        "    n_users = data_matrix.shape[0]\n",
        "    n_items = data_matrix.shape[1]\n",
        "    \n",
        "    # Initializing user-feature (P) and movie-feature (Q) matrix \n",
        "    P = np.random.normal(scale=1./K, size=(n_users, K))\n",
        "    Q = np.random.normal(scale=1./K, size=(n_items, K))\n",
        "\n",
        "    # Initialize bias terms\n",
        "    user_bias = np.zeros(n_users)\n",
        "    item_bias = np.zeros(n_items)\n",
        "    b = np.mean(data_matrix[np.where(data_matrix != 0)])\n",
        "    \n",
        "    # Define list of training samples\n",
        "    samples = [\n",
        "    (i, j, data_matrix[i, j])\n",
        "    for i in range(n_users)\n",
        "    for j in range(n_items)\n",
        "    if data_matrix[i, j] > 0\n",
        "    ]\n",
        "    \n",
        "    # Stochastic gradient descent for given number of iterations\n",
        "    training_process = []\n",
        "    for i in range(iterations):\n",
        "        np.random.shuffle(samples)\n",
        "        user_bias, item_bias, P, Q = sgd(b,user_bias,item_bias,P,Q,samples,alpha,beta)\n",
        "        error = mse(data_matrix,b,user_bias,item_bias,P,Q)\n",
        "        training_process.append((i, error))\n",
        "        if (i+1) % 20 == 0:\n",
        "            print(\"Iteration: %d ; error = %.4f\" % (i+1, error))\n",
        "\n",
        "    return training_process,b,user_bias,item_bias,P,Q"
      ],
      "metadata": {
        "id": "T89vGWprTxSD"
      },
      "execution_count": null,
      "outputs": []
    },
    {
      "cell_type": "markdown",
      "source": [
        "## 6. Make predictions using the model - *Jonhua Qin*"
      ],
      "metadata": {
        "id": "jeEBi4-Hp0y3"
      }
    },
    {
      "cell_type": "code",
      "source": [
        "# predict the missing ratings with alpha = 0.001, beta=0.01, K=20\n",
        "training_process,b,user_bias,item_bias,P,Q = train_model(data_matrix_train, K=20, alpha=0.001, beta=0.01, iterations=100)"
      ],
      "metadata": {
        "id": "0D4jp-UiTy8x"
      },
      "execution_count": null,
      "outputs": []
    },
    {
      "cell_type": "code",
      "source": [
        "# predict the missing ratings with alpha = 0.001, beta=0.01, K=50\n",
        "training_process_2,b_2,user_bias_2,item_bias_2,P_2,Q_2 = train_model(data_matrix_train, K=50, alpha=0.001, beta=0.01, iterations=100)"
      ],
      "metadata": {
        "id": "vuxHbFJXT0Ce"
      },
      "execution_count": null,
      "outputs": []
    },
    {
      "cell_type": "code",
      "source": [
        "# predict the missing ratings with alpha = 0.01, beta=0.01, K=20\n",
        "training_process_3,b_3,user_bias_3,item_bias_3,P_3,Q_3 = train_model(data_matrix_train, K=20, alpha=0.01, beta=0.01, iterations=100)"
      ],
      "metadata": {
        "id": "Vdk9URD8T1SR"
      },
      "execution_count": null,
      "outputs": []
    },
    {
      "cell_type": "code",
      "source": [
        "# predict the missing ratings with alpha = 0.001, beta=0.1, K=20\n",
        "training_process_4,b_4,user_bias_4,item_bias_4,P_4,Q_4 = train_model(data_matrix_train, K=20, alpha=0.001, beta=0.1, iterations=100)"
      ],
      "metadata": {
        "id": "j_ba43JeT2Qa"
      },
      "execution_count": null,
      "outputs": []
    },
    {
      "cell_type": "code",
      "source": [
        "# predict the missing ratings with alpha = 0.1, beta=0.01, K=20\n",
        "training_process_5,b_5,user_bias_5,item_bias_5,P_5,Q_5 = train_model(data_matrix_train, K=20, alpha=0.1, beta=0.01, iterations=100)"
      ],
      "metadata": {
        "id": "EUp-0tzqT305"
      },
      "execution_count": null,
      "outputs": []
    },
    {
      "cell_type": "markdown",
      "source": [
        "Convert the best model into prediction matrix"
      ],
      "metadata": {
        "id": "AvdhP5_3T6LY"
      }
    },
    {
      "cell_type": "code",
      "source": [
        "# Round the predictions to integer ratings\n",
        "prediction = np.around(full_matrix(b,user_bias,item_bias,P,Q),0)"
      ],
      "metadata": {
        "id": "-lpyNaL6UA7y"
      },
      "execution_count": null,
      "outputs": []
    },
    {
      "cell_type": "markdown",
      "source": [
        "Validate the prediction results with the test dataset - **to be completed**"
      ],
      "metadata": {
        "id": "NktQA1V4UFI6"
      }
    },
    {
      "cell_type": "markdown",
      "source": [
        "## 7. Visualize Results - *Ming Lu*"
      ],
      "metadata": {
        "id": "ut2m_JwAqKKV"
      }
    },
    {
      "cell_type": "code",
      "source": [
        "plt.plot(training_process[:,0],training_process[:,1],label=\"model 1\")\n",
        "plt.plot(training_process2[:,0],training_process2[:,1],label=\"model 2\")\n",
        "plt.plot(training_process3[:,0],training_process3[:,1],label=\"model 3\")\n",
        "plt.title(\"MSE Cost vs. Iteration\")\n",
        "plt.xlabel(\"Iterations\")\n",
        "plt.ylabel(\"MSE\")\n",
        "plt.legend()\n",
        "plt.show()"
      ],
      "metadata": {
        "id": "Tz6DfogaUMpp"
      },
      "execution_count": null,
      "outputs": []
    },
    {
      "cell_type": "markdown",
      "source": [
        "# **Sample Codes**\n",
        "### Case study using movie lens data"
      ],
      "metadata": {
        "id": "1aPMnG9ziRTl"
      }
    },
    {
      "cell_type": "code",
      "source": [
        "# Read data\n",
        "r_cols = ['user_id', 'movie_id', 'rating', 'unix_timestamp']\n",
        "ratings_train = pd.read_csv('ml-100k/ua.base', sep='\\t', names=r_cols, encoding='latin-1')\n",
        "ratings_test = pd.read_csv('ml-100k/ua.test', sep='\\t', names=r_cols, encoding='latin-1')\n",
        "ratings_train.shape, ratings_test.shape\n",
        "# get number of users and items\n",
        "n_users = ratings.user_id.unique().shape[0]\n",
        "n_items = ratings.movie_id.unique().shape[0]\n",
        "# create user-item matrix\n",
        "data_matrix = np.zeros((n_users, n_items))\n",
        "for line in ratings.itertuples():\n",
        "    data_matrix[line[1]-1, line[2]-1] = line[3]"
      ],
      "metadata": {
        "id": "a_dNR7B5iaAk"
      },
      "execution_count": null,
      "outputs": []
    },
    {
      "cell_type": "code",
      "source": [
        "# calculate similarity\n",
        "from sklearn.metrics.pairwise import pairwise_distances \n",
        "user_similarity = pairwise_distances(data_matrix, metric='cosine')\n",
        "item_similarity = pairwise_distances(data_matrix.T, metric='cosine')"
      ],
      "metadata": {
        "id": "l1br3WGji1sm"
      },
      "execution_count": null,
      "outputs": []
    },
    {
      "cell_type": "code",
      "source": [
        "# build function to make predictions based on similarity\n",
        "def predict(ratings, similarity, type='user'):\n",
        "    if type == 'user':\n",
        "        mean_user_rating = ratings.mean(axis=1)\n",
        "        #We use np.newaxis so that mean_user_rating has same format as ratings\n",
        "        ratings_diff = (ratings - mean_user_rating[:, np.newaxis])\n",
        "        pred = mean_user_rating[:, np.newaxis] + similarity.dot(ratings_diff) / np.array([np.abs(similarity).sum(axis=1)]).T\n",
        "    elif type == 'item':\n",
        "        pred = ratings.dot(similarity) / np.array([np.abs(similarity).sum(axis=1)])\n",
        "    return pred"
      ],
      "metadata": {
        "id": "nX5oO71yjHD3"
      },
      "execution_count": null,
      "outputs": []
    },
    {
      "cell_type": "code",
      "source": [
        "# make prediction\n",
        "user_prediction = predict(data_matrix, user_similarity, type='user')\n",
        "item_prediction = predict(data_matrix, item_similarity, type='item')"
      ],
      "metadata": {
        "id": "xWNLPphLjOdO"
      },
      "execution_count": null,
      "outputs": []
    },
    {
      "cell_type": "markdown",
      "source": [
        "### Building a recommendation engine using matrix factorization. The input for this function are:\n",
        "\n",
        "- R – The user-movie rating matrix \n",
        "- K – Number of latent features\n",
        "- alpha – Learning rate for stochastic gradient descent\n",
        "- beta – Regularization parameter for bias\n",
        "- iterations – Number of iterations to perform stochastic gradient descent"
      ],
      "metadata": {
        "id": "TrFiAmeTjfDd"
      }
    },
    {
      "cell_type": "code",
      "source": [
        "class MF():\n",
        "\n",
        "    # Initializing the user-movie rating matrix, no. of latent features, alpha and beta.\n",
        "    def __init__(self, R, K, alpha, beta, iterations):\n",
        "        self.R = R\n",
        "        self.num_users, self.num_items = R.shape\n",
        "        self.K = K\n",
        "        self.alpha = alpha\n",
        "        self.beta = beta\n",
        "        self.iterations = iterations\n",
        "\n",
        "    # Initializing user-feature and movie-feature matrix \n",
        "    def train(self):\n",
        "        self.P = np.random.normal(scale=1./self.K, size=(self.num_users, self.K))\n",
        "        self.Q = np.random.normal(scale=1./self.K, size=(self.num_items, self.K))\n",
        "\n",
        "        # Initializing the bias terms\n",
        "        self.b_u = np.zeros(self.num_users)\n",
        "        self.b_i = np.zeros(self.num_items)\n",
        "        self.b = np.mean(self.R[np.where(self.R != 0)])\n",
        "\n",
        "        # List of training samples\n",
        "        self.samples = [\n",
        "        (i, j, self.R[i, j])\n",
        "        for i in range(self.num_users)\n",
        "        for j in range(self.num_items)\n",
        "        if self.R[i, j] > 0\n",
        "        ]\n",
        "\n",
        "        # Stochastic gradient descent for given number of iterations\n",
        "        training_process = []\n",
        "        for i in range(self.iterations):\n",
        "        np.random.shuffle(self.samples)\n",
        "        self.sgd()\n",
        "        mse = self.mse()\n",
        "        training_process.append((i, mse))\n",
        "        if (i+1) % 20 == 0:\n",
        "            print(\"Iteration: %d ; error = %.4f\" % (i+1, mse))\n",
        "\n",
        "        return training_process\n",
        "\n",
        "    # Computing total mean squared error\n",
        "    def mse(self):\n",
        "        xs, ys = self.R.nonzero()\n",
        "        predicted = self.full_matrix()\n",
        "        error = 0\n",
        "        for x, y in zip(xs, ys):\n",
        "            error += pow(self.R[x, y] - predicted[x, y], 2)\n",
        "        return np.sqrt(error)\n",
        "\n",
        "    # Stochastic gradient descent to get optimized P and Q matrix\n",
        "    def sgd(self):\n",
        "        for i, j, r in self.samples:\n",
        "            prediction = self.get_rating(i, j)\n",
        "            e = (r - prediction)\n",
        "\n",
        "            self.b_u[i] += self.alpha * (e - self.beta * self.b_u[i])\n",
        "            self.b_i[j] += self.alpha * (e - self.beta * self.b_i[j])\n",
        "\n",
        "            self.P[i, :] += self.alpha * (e * self.Q[j, :] - self.beta * self.P[i,:])\n",
        "            self.Q[j, :] += self.alpha * (e * self.P[i, :] - self.beta * self.Q[j,:])\n",
        "\n",
        "    # Ratings for user i and moive j\n",
        "    def get_rating(self, i, j):\n",
        "        prediction = self.b + self.b_u[i] + self.b_i[j] + self.P[i, :].dot(self.Q[j, :].T)\n",
        "        return prediction\n",
        "\n",
        "    # Full user-movie rating matrix\n",
        "    def full_matrix(self):\n",
        "        return mf.b + mf.b_u[:,np.newaxis] + mf.b_i[np.newaxis:,] + mf.P.dot(mf.Q.T)"
      ],
      "metadata": {
        "id": "k7Wce8B2jejH"
      },
      "execution_count": null,
      "outputs": []
    },
    {
      "cell_type": "code",
      "source": [
        "# convert the user item rating to matrix form\n",
        "R= np.array(ratings.pivot(index = 'user_id', columns ='movie_id', values = 'rating').fillna(0))"
      ],
      "metadata": {
        "id": "kV9PazvNj-Ln"
      },
      "execution_count": null,
      "outputs": []
    },
    {
      "cell_type": "code",
      "source": [
        "# predict the missing ratings\n",
        "mf = MF(R, K=20, alpha=0.001, beta=0.01, iterations=100)\n",
        "training_process = mf.train()\n",
        "print()\n",
        "print(\"P x Q:\")\n",
        "print(mf.full_matrix())\n",
        "print()"
      ],
      "metadata": {
        "id": "JI-QpjGckEAX"
      },
      "execution_count": null,
      "outputs": []
    }
  ]
}
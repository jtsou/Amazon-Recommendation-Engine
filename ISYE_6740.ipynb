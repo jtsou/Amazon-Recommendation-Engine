{
  "nbformat": 4,
  "nbformat_minor": 0,
  "metadata": {
    "colab": {
      "name": "ISYE 6740.ipynb",
      "provenance": [],
      "collapsed_sections": [],
      "include_colab_link": true
    },
    "kernelspec": {
      "name": "python3",
      "display_name": "Python 3"
    },
    "language_info": {
      "name": "python"
    }
  },
  "cells": [
    {
      "cell_type": "markdown",
      "metadata": {
        "id": "view-in-github",
        "colab_type": "text"
      },
      "source": [
        "<a href=\"https://colab.research.google.com/github/jtsou/Amazon-Recommendation-Engine/blob/main/ISYE_6740.ipynb\" target=\"_parent\"><img src=\"https://colab.research.google.com/assets/colab-badge.svg\" alt=\"Open In Colab\"/></a>"
      ]
    },
    {
      "cell_type": "markdown",
      "source": [
        "# Final Project - Build recommendation engine using Amazon electronic products dataset\n",
        "\n"
      ],
      "metadata": {
        "id": "IG_v-_u5qRUn"
      }
    },
    {
      "cell_type": "code",
      "execution_count": null,
      "metadata": {
        "id": "j7539rMENc60"
      },
      "outputs": [],
      "source": [
        "import os\n",
        "import json\n",
        "import gzip\n",
        "import pandas as pd\n",
        "from urllib.request import urlopen\n",
        "import seaborn\n",
        "from matplotlib import pyplot as plt\n",
        "import random\n",
        "import numpy as np\n",
        "from tqdm import tqdm_notebook as tqdm\n",
        "from collections import defaultdict"
      ]
    },
    {
      "cell_type": "markdown",
      "source": [
        "## 1. Import data and build user/items dataframe - *Jennifer Tsou*"
      ],
      "metadata": {
        "id": "vIsfZkR_mM8_"
      }
    },
    {
      "cell_type": "code",
      "source": [
        "!wget http://deepyeti.ucsd.edu/jianmo/amazon/categoryFilesSmall/Electronics.csv"
      ],
      "metadata": {
        "id": "VW1rdCx5N2oM",
        "colab": {
          "base_uri": "https://localhost:8080/"
        },
        "outputId": "88e0eb70-bcba-4d96-e1d2-d2952de67d2c"
      },
      "execution_count": null,
      "outputs": [
        {
          "output_type": "stream",
          "name": "stdout",
          "text": [
            "--2022-04-12 01:04:14--  http://deepyeti.ucsd.edu/jianmo/amazon/categoryFilesSmall/Electronics.csv\n",
            "Resolving deepyeti.ucsd.edu (deepyeti.ucsd.edu)... 169.228.63.50\n",
            "Connecting to deepyeti.ucsd.edu (deepyeti.ucsd.edu)|169.228.63.50|:80... connected.\n",
            "HTTP request sent, awaiting response... 200 OK\n",
            "Length: 876247561 (836M) [application/octet-stream]\n",
            "Saving to: ‘Electronics.csv’\n",
            "\n",
            "Electronics.csv     100%[===================>] 835.65M  38.8MB/s    in 22s     \n",
            "\n",
            "2022-04-12 01:04:36 (38.0 MB/s) - ‘Electronics.csv’ saved [876247561/876247561]\n",
            "\n"
          ]
        }
      ]
    },
    {
      "cell_type": "code",
      "source": [
        "electronics_rating = pd.read_csv('Electronics.csv', header= None)"
      ],
      "metadata": {
        "id": "M0jTq7bmOnU3"
      },
      "execution_count": null,
      "outputs": []
    },
    {
      "cell_type": "code",
      "source": [
        "electronics_rating.columns = ['item','user','rating','timestamp']\n",
        "electronics_rating.head()"
      ],
      "metadata": {
        "colab": {
          "base_uri": "https://localhost:8080/",
          "height": 204
        },
        "id": "j4MjG08nRDkA",
        "outputId": "833b375d-9ae6-4e7d-d8f1-8efd4a8b6b5c"
      },
      "execution_count": null,
      "outputs": [
        {
          "output_type": "execute_result",
          "data": {
            "text/plain": [
              "         item            user  rating   timestamp\n",
              "0  0060009810  A1N070NS9CJQ2I     5.0  1026864000\n",
              "1  0060009810  A3P0KRKOBQK1KN     5.0  1025913600\n",
              "2  0060009810  A192HO2ICJ75VU     5.0  1025654400\n",
              "3  0060009810  A2T278FKFL3BLT     4.0  1025395200\n",
              "4  0060009810  A2ZUXVTW8RXBXW     5.0  1025222400"
            ],
            "text/html": [
              "\n",
              "  <div id=\"df-ea90e4e7-dba2-45d3-8cf4-091d1615a899\">\n",
              "    <div class=\"colab-df-container\">\n",
              "      <div>\n",
              "<style scoped>\n",
              "    .dataframe tbody tr th:only-of-type {\n",
              "        vertical-align: middle;\n",
              "    }\n",
              "\n",
              "    .dataframe tbody tr th {\n",
              "        vertical-align: top;\n",
              "    }\n",
              "\n",
              "    .dataframe thead th {\n",
              "        text-align: right;\n",
              "    }\n",
              "</style>\n",
              "<table border=\"1\" class=\"dataframe\">\n",
              "  <thead>\n",
              "    <tr style=\"text-align: right;\">\n",
              "      <th></th>\n",
              "      <th>item</th>\n",
              "      <th>user</th>\n",
              "      <th>rating</th>\n",
              "      <th>timestamp</th>\n",
              "    </tr>\n",
              "  </thead>\n",
              "  <tbody>\n",
              "    <tr>\n",
              "      <th>0</th>\n",
              "      <td>0060009810</td>\n",
              "      <td>A1N070NS9CJQ2I</td>\n",
              "      <td>5.0</td>\n",
              "      <td>1026864000</td>\n",
              "    </tr>\n",
              "    <tr>\n",
              "      <th>1</th>\n",
              "      <td>0060009810</td>\n",
              "      <td>A3P0KRKOBQK1KN</td>\n",
              "      <td>5.0</td>\n",
              "      <td>1025913600</td>\n",
              "    </tr>\n",
              "    <tr>\n",
              "      <th>2</th>\n",
              "      <td>0060009810</td>\n",
              "      <td>A192HO2ICJ75VU</td>\n",
              "      <td>5.0</td>\n",
              "      <td>1025654400</td>\n",
              "    </tr>\n",
              "    <tr>\n",
              "      <th>3</th>\n",
              "      <td>0060009810</td>\n",
              "      <td>A2T278FKFL3BLT</td>\n",
              "      <td>4.0</td>\n",
              "      <td>1025395200</td>\n",
              "    </tr>\n",
              "    <tr>\n",
              "      <th>4</th>\n",
              "      <td>0060009810</td>\n",
              "      <td>A2ZUXVTW8RXBXW</td>\n",
              "      <td>5.0</td>\n",
              "      <td>1025222400</td>\n",
              "    </tr>\n",
              "  </tbody>\n",
              "</table>\n",
              "</div>\n",
              "      <button class=\"colab-df-convert\" onclick=\"convertToInteractive('df-ea90e4e7-dba2-45d3-8cf4-091d1615a899')\"\n",
              "              title=\"Convert this dataframe to an interactive table.\"\n",
              "              style=\"display:none;\">\n",
              "        \n",
              "  <svg xmlns=\"http://www.w3.org/2000/svg\" height=\"24px\"viewBox=\"0 0 24 24\"\n",
              "       width=\"24px\">\n",
              "    <path d=\"M0 0h24v24H0V0z\" fill=\"none\"/>\n",
              "    <path d=\"M18.56 5.44l.94 2.06.94-2.06 2.06-.94-2.06-.94-.94-2.06-.94 2.06-2.06.94zm-11 1L8.5 8.5l.94-2.06 2.06-.94-2.06-.94L8.5 2.5l-.94 2.06-2.06.94zm10 10l.94 2.06.94-2.06 2.06-.94-2.06-.94-.94-2.06-.94 2.06-2.06.94z\"/><path d=\"M17.41 7.96l-1.37-1.37c-.4-.4-.92-.59-1.43-.59-.52 0-1.04.2-1.43.59L10.3 9.45l-7.72 7.72c-.78.78-.78 2.05 0 2.83L4 21.41c.39.39.9.59 1.41.59.51 0 1.02-.2 1.41-.59l7.78-7.78 2.81-2.81c.8-.78.8-2.07 0-2.86zM5.41 20L4 18.59l7.72-7.72 1.47 1.35L5.41 20z\"/>\n",
              "  </svg>\n",
              "      </button>\n",
              "      \n",
              "  <style>\n",
              "    .colab-df-container {\n",
              "      display:flex;\n",
              "      flex-wrap:wrap;\n",
              "      gap: 12px;\n",
              "    }\n",
              "\n",
              "    .colab-df-convert {\n",
              "      background-color: #E8F0FE;\n",
              "      border: none;\n",
              "      border-radius: 50%;\n",
              "      cursor: pointer;\n",
              "      display: none;\n",
              "      fill: #1967D2;\n",
              "      height: 32px;\n",
              "      padding: 0 0 0 0;\n",
              "      width: 32px;\n",
              "    }\n",
              "\n",
              "    .colab-df-convert:hover {\n",
              "      background-color: #E2EBFA;\n",
              "      box-shadow: 0px 1px 2px rgba(60, 64, 67, 0.3), 0px 1px 3px 1px rgba(60, 64, 67, 0.15);\n",
              "      fill: #174EA6;\n",
              "    }\n",
              "\n",
              "    [theme=dark] .colab-df-convert {\n",
              "      background-color: #3B4455;\n",
              "      fill: #D2E3FC;\n",
              "    }\n",
              "\n",
              "    [theme=dark] .colab-df-convert:hover {\n",
              "      background-color: #434B5C;\n",
              "      box-shadow: 0px 1px 3px 1px rgba(0, 0, 0, 0.15);\n",
              "      filter: drop-shadow(0px 1px 2px rgba(0, 0, 0, 0.3));\n",
              "      fill: #FFFFFF;\n",
              "    }\n",
              "  </style>\n",
              "\n",
              "      <script>\n",
              "        const buttonEl =\n",
              "          document.querySelector('#df-ea90e4e7-dba2-45d3-8cf4-091d1615a899 button.colab-df-convert');\n",
              "        buttonEl.style.display =\n",
              "          google.colab.kernel.accessAllowed ? 'block' : 'none';\n",
              "\n",
              "        async function convertToInteractive(key) {\n",
              "          const element = document.querySelector('#df-ea90e4e7-dba2-45d3-8cf4-091d1615a899');\n",
              "          const dataTable =\n",
              "            await google.colab.kernel.invokeFunction('convertToInteractive',\n",
              "                                                     [key], {});\n",
              "          if (!dataTable) return;\n",
              "\n",
              "          const docLinkHtml = 'Like what you see? Visit the ' +\n",
              "            '<a target=\"_blank\" href=https://colab.research.google.com/notebooks/data_table.ipynb>data table notebook</a>'\n",
              "            + ' to learn more about interactive tables.';\n",
              "          element.innerHTML = '';\n",
              "          dataTable['output_type'] = 'display_data';\n",
              "          await google.colab.output.renderOutput(dataTable, element);\n",
              "          const docLink = document.createElement('div');\n",
              "          docLink.innerHTML = docLinkHtml;\n",
              "          element.appendChild(docLink);\n",
              "        }\n",
              "      </script>\n",
              "    </div>\n",
              "  </div>\n",
              "  "
            ]
          },
          "metadata": {},
          "execution_count": 7
        }
      ]
    },
    {
      "cell_type": "markdown",
      "source": [
        ""
      ],
      "metadata": {
        "id": "bLFJn9qoWBi8"
      }
    },
    {
      "cell_type": "code",
      "source": [
        "electronics_rating['timestamp'] = pd.to_datetime(electronics_rating['timestamp'],unit='s')\n"
      ],
      "metadata": {
        "id": "H7ZR0GfOZsU7"
      },
      "execution_count": null,
      "outputs": []
    },
    {
      "cell_type": "code",
      "source": [
        "electronics_rating.info()"
      ],
      "metadata": {
        "id": "nPL8LG5LuR1q",
        "outputId": "56e2298c-626e-4cfb-db00-7e07149fb851",
        "colab": {
          "base_uri": "https://localhost:8080/"
        }
      },
      "execution_count": null,
      "outputs": [
        {
          "output_type": "stream",
          "name": "stdout",
          "text": [
            "<class 'pandas.core.frame.DataFrame'>\n",
            "RangeIndex: 20994353 entries, 0 to 20994352\n",
            "Data columns (total 4 columns):\n",
            " #   Column     Dtype         \n",
            "---  ------     -----         \n",
            " 0   item       object        \n",
            " 1   user       object        \n",
            " 2   rating     float64       \n",
            " 3   timestamp  datetime64[ns]\n",
            "dtypes: datetime64[ns](1), float64(1), object(2)\n",
            "memory usage: 640.7+ MB\n"
          ]
        }
      ]
    },
    {
      "cell_type": "code",
      "source": [
        "electronics_rating.timestamp.describe()"
      ],
      "metadata": {
        "colab": {
          "base_uri": "https://localhost:8080/"
        },
        "id": "C7RTaP6ap5zy",
        "outputId": "8db987c2-4933-42a3-d338-98f1abfe07b4"
      },
      "execution_count": null,
      "outputs": [
        {
          "output_type": "stream",
          "name": "stderr",
          "text": [
            "/usr/local/lib/python3.7/dist-packages/ipykernel_launcher.py:1: FutureWarning: Treating datetime data as categorical rather than numeric in `.describe` is deprecated and will be removed in a future version of pandas. Specify `datetime_is_numeric=True` to silence this warning and adopt the future behavior now.\n",
            "  \"\"\"Entry point for launching an IPython kernel.\n"
          ]
        },
        {
          "output_type": "execute_result",
          "data": {
            "text/plain": [
              "count                20994353\n",
              "unique                   7015\n",
              "top       2016-03-01 00:00:00\n",
              "freq                    25244\n",
              "first     1997-12-04 00:00:00\n",
              "last      2018-10-05 00:00:00\n",
              "Name: timestamp, dtype: object"
            ]
          },
          "metadata": {},
          "execution_count": 7
        }
      ]
    },
    {
      "cell_type": "code",
      "source": [
        "electronics_rating.item.describe()"
      ],
      "metadata": {
        "colab": {
          "base_uri": "https://localhost:8080/"
        },
        "id": "K9W88zjHq9zX",
        "outputId": "6dec08a6-964d-4179-ba92-e1abac49e322"
      },
      "execution_count": null,
      "outputs": [
        {
          "output_type": "execute_result",
          "data": {
            "text/plain": [
              "count       20994353\n",
              "unique        756489\n",
              "top       B010OYASRG\n",
              "freq           28539\n",
              "Name: item, dtype: object"
            ]
          },
          "metadata": {},
          "execution_count": 8
        }
      ]
    },
    {
      "cell_type": "code",
      "source": [
        "electronics_rating.user.describe()"
      ],
      "metadata": {
        "colab": {
          "base_uri": "https://localhost:8080/"
        },
        "id": "IHmbQZIDrmyk",
        "outputId": "20ea584a-a9c9-46a9-d54b-823442660619"
      },
      "execution_count": null,
      "outputs": [
        {
          "output_type": "execute_result",
          "data": {
            "text/plain": [
              "count          20994353\n",
              "unique          9838676\n",
              "top       A680RUE1FDO8B\n",
              "freq                633\n",
              "Name: user, dtype: object"
            ]
          },
          "metadata": {},
          "execution_count": 9
        }
      ]
    },
    {
      "cell_type": "code",
      "source": [
        "electronics_rating.groupby('user')['rating'].mean()"
      ],
      "metadata": {
        "colab": {
          "base_uri": "https://localhost:8080/"
        },
        "id": "z1FICsQcrtTr",
        "outputId": "fe3ecfdc-9ad0-43a2-beed-cd7da1b48621"
      },
      "execution_count": null,
      "outputs": [
        {
          "output_type": "execute_result",
          "data": {
            "text/plain": [
              "user\n",
              "A0000040I1OM9N4SGBD8    2.000000\n",
              "A00010809P09NUU6ZP6H    5.000000\n",
              "A0001392JPQ8N7MSF2CV    5.000000\n",
              "A0001410YRCTKL1MHXQJ    4.000000\n",
              "A0001528BGUBOEVR6T5U    4.428571\n",
              "                          ...   \n",
              "AZZZY1W55XHZR           4.000000\n",
              "AZZZYCYV82JER           2.000000\n",
              "AZZZZ4BWKERJ9           4.000000\n",
              "AZZZZHRHTLH4R           1.000000\n",
              "AZZZZJYGA32             3.000000\n",
              "Name: rating, Length: 9838676, dtype: float64"
            ]
          },
          "metadata": {},
          "execution_count": 10
        }
      ]
    },
    {
      "cell_type": "markdown",
      "source": [
        "## 2. Build similarity function to calculate distance between users - *Add your name here*"
      ],
      "metadata": {
        "id": "liinbHBjlqi-"
      }
    },
    {
      "cell_type": "code",
      "source": [
        "from sklearn.neighbors import KNeighborsClassifier"
      ],
      "metadata": {
        "id": "O88t1aCXf20W"
      },
      "execution_count": null,
      "outputs": []
    },
    {
      "cell_type": "markdown",
      "source": [
        "## 3. (optional) build function to make predictions based on similarity - *Add your name here*"
      ],
      "metadata": {
        "id": "GOpt9D5wmZ1W"
      }
    },
    {
      "cell_type": "markdown",
      "source": [
        "## 4. Use matrix factorization (SVD) to transform user-item matrix - *Add your name here*"
      ],
      "metadata": {
        "id": "Ck0ucjFLmj8d"
      }
    },
    {
      "cell_type": "markdown",
      "source": [
        "## 5. Build utility functions for training the models - MSE, SGD, etc. - *Add your name here*"
      ],
      "metadata": {
        "id": "gZiNS0Rhm05Y"
      }
    },
    {
      "cell_type": "markdown",
      "source": [
        "## 6. Build training function - *Add your name here*"
      ],
      "metadata": {
        "id": "7KNkZk34psG_"
      }
    },
    {
      "cell_type": "markdown",
      "source": [
        "## 7. Make predictions using the model - *Add your name here*"
      ],
      "metadata": {
        "id": "jeEBi4-Hp0y3"
      }
    },
    {
      "cell_type": "markdown",
      "source": [
        "## 8. Visualize Results - *Add your name here*"
      ],
      "metadata": {
        "id": "ut2m_JwAqKKV"
      }
    },
    {
      "cell_type": "markdown",
      "source": [
        "# **Sample Codes**\n",
        "### Case study using movie lens data"
      ],
      "metadata": {
        "id": "1aPMnG9ziRTl"
      }
    },
    {
      "cell_type": "code",
      "source": [
        "# Read data\n",
        "r_cols = ['user_id', 'movie_id', 'rating', 'unix_timestamp']\n",
        "ratings_train = pd.read_csv('ml-100k/ua.base', sep='\\t', names=r_cols, encoding='latin-1')\n",
        "ratings_test = pd.read_csv('ml-100k/ua.test', sep='\\t', names=r_cols, encoding='latin-1')\n",
        "ratings_train.shape, ratings_test.shape\n",
        "# get number of users and items\n",
        "n_users = ratings.user_id.unique().shape[0]\n",
        "n_items = ratings.movie_id.unique().shape[0]\n",
        "# create user-item matrix\n",
        "data_matrix = np.zeros((n_users, n_items))\n",
        "for line in ratings.itertuples():\n",
        "    data_matrix[line[1]-1, line[2]-1] = line[3]"
      ],
      "metadata": {
        "id": "a_dNR7B5iaAk"
      },
      "execution_count": null,
      "outputs": []
    },
    {
      "cell_type": "code",
      "source": [
        "# calculate similarity\n",
        "from sklearn.metrics.pairwise import pairwise_distances \n",
        "user_similarity = pairwise_distances(data_matrix, metric='cosine')\n",
        "item_similarity = pairwise_distances(data_matrix.T, metric='cosine')"
      ],
      "metadata": {
        "id": "l1br3WGji1sm"
      },
      "execution_count": null,
      "outputs": []
    },
    {
      "cell_type": "code",
      "source": [
        "# build function to make predictions based on similarity\n",
        "def predict(ratings, similarity, type='user'):\n",
        "    if type == 'user':\n",
        "        mean_user_rating = ratings.mean(axis=1)\n",
        "        #We use np.newaxis so that mean_user_rating has same format as ratings\n",
        "        ratings_diff = (ratings - mean_user_rating[:, np.newaxis])\n",
        "        pred = mean_user_rating[:, np.newaxis] + similarity.dot(ratings_diff) / np.array([np.abs(similarity).sum(axis=1)]).T\n",
        "    elif type == 'item':\n",
        "        pred = ratings.dot(similarity) / np.array([np.abs(similarity).sum(axis=1)])\n",
        "    return pred"
      ],
      "metadata": {
        "id": "nX5oO71yjHD3"
      },
      "execution_count": null,
      "outputs": []
    },
    {
      "cell_type": "code",
      "source": [
        "# make prediction\n",
        "user_prediction = predict(data_matrix, user_similarity, type='user')\n",
        "item_prediction = predict(data_matrix, item_similarity, type='item')"
      ],
      "metadata": {
        "id": "xWNLPphLjOdO"
      },
      "execution_count": null,
      "outputs": []
    },
    {
      "cell_type": "markdown",
      "source": [
        "### Building a recommendation engine using matrix factorization. The input for this function are:\n",
        "\n",
        "- R – The user-movie rating matrix \n",
        "- K – Number of latent features\n",
        "- alpha – Learning rate for stochastic gradient descent\n",
        "- beta – Regularization parameter for bias\n",
        "- iterations – Number of iterations to perform stochastic gradient descent"
      ],
      "metadata": {
        "id": "TrFiAmeTjfDd"
      }
    },
    {
      "cell_type": "code",
      "source": [
        "class MF():\n",
        "\n",
        "    # Initializing the user-movie rating matrix, no. of latent features, alpha and beta.\n",
        "    def __init__(self, R, K, alpha, beta, iterations):\n",
        "        self.R = R\n",
        "        self.num_users, self.num_items = R.shape\n",
        "        self.K = K\n",
        "        self.alpha = alpha\n",
        "        self.beta = beta\n",
        "        self.iterations = iterations\n",
        "\n",
        "    # Initializing user-feature and movie-feature matrix \n",
        "    def train(self):\n",
        "        self.P = np.random.normal(scale=1./self.K, size=(self.num_users, self.K))\n",
        "        self.Q = np.random.normal(scale=1./self.K, size=(self.num_items, self.K))\n",
        "\n",
        "        # Initializing the bias terms\n",
        "        self.b_u = np.zeros(self.num_users)\n",
        "        self.b_i = np.zeros(self.num_items)\n",
        "        self.b = np.mean(self.R[np.where(self.R != 0)])\n",
        "\n",
        "        # List of training samples\n",
        "        self.samples = [\n",
        "        (i, j, self.R[i, j])\n",
        "        for i in range(self.num_users)\n",
        "        for j in range(self.num_items)\n",
        "        if self.R[i, j] > 0\n",
        "        ]\n",
        "\n",
        "        # Stochastic gradient descent for given number of iterations\n",
        "        training_process = []\n",
        "        for i in range(self.iterations):\n",
        "        np.random.shuffle(self.samples)\n",
        "        self.sgd()\n",
        "        mse = self.mse()\n",
        "        training_process.append((i, mse))\n",
        "        if (i+1) % 20 == 0:\n",
        "            print(\"Iteration: %d ; error = %.4f\" % (i+1, mse))\n",
        "\n",
        "        return training_process\n",
        "\n",
        "    # Computing total mean squared error\n",
        "    def mse(self):\n",
        "        xs, ys = self.R.nonzero()\n",
        "        predicted = self.full_matrix()\n",
        "        error = 0\n",
        "        for x, y in zip(xs, ys):\n",
        "            error += pow(self.R[x, y] - predicted[x, y], 2)\n",
        "        return np.sqrt(error)\n",
        "\n",
        "    # Stochastic gradient descent to get optimized P and Q matrix\n",
        "    def sgd(self):\n",
        "        for i, j, r in self.samples:\n",
        "            prediction = self.get_rating(i, j)\n",
        "            e = (r - prediction)\n",
        "\n",
        "            self.b_u[i] += self.alpha * (e - self.beta * self.b_u[i])\n",
        "            self.b_i[j] += self.alpha * (e - self.beta * self.b_i[j])\n",
        "\n",
        "            self.P[i, :] += self.alpha * (e * self.Q[j, :] - self.beta * self.P[i,:])\n",
        "            self.Q[j, :] += self.alpha * (e * self.P[i, :] - self.beta * self.Q[j,:])\n",
        "\n",
        "    # Ratings for user i and moive j\n",
        "    def get_rating(self, i, j):\n",
        "        prediction = self.b + self.b_u[i] + self.b_i[j] + self.P[i, :].dot(self.Q[j, :].T)\n",
        "        return prediction\n",
        "\n",
        "    # Full user-movie rating matrix\n",
        "    def full_matrix(self):\n",
        "        return mf.b + mf.b_u[:,np.newaxis] + mf.b_i[np.newaxis:,] + mf.P.dot(mf.Q.T)"
      ],
      "metadata": {
        "id": "k7Wce8B2jejH"
      },
      "execution_count": null,
      "outputs": []
    },
    {
      "cell_type": "code",
      "source": [
        "# convert the user item rating to matrix form\n",
        "R= np.array(ratings.pivot(index = 'user_id', columns ='movie_id', values = 'rating').fillna(0))"
      ],
      "metadata": {
        "id": "kV9PazvNj-Ln"
      },
      "execution_count": null,
      "outputs": []
    },
    {
      "cell_type": "code",
      "source": [
        "# predict the missing ratings\n",
        "mf = MF(R, K=20, alpha=0.001, beta=0.01, iterations=100)\n",
        "training_process = mf.train()\n",
        "print()\n",
        "print(\"P x Q:\")\n",
        "print(mf.full_matrix())\n",
        "print()"
      ],
      "metadata": {
        "id": "JI-QpjGckEAX"
      },
      "execution_count": null,
      "outputs": []
    }
  ]
}